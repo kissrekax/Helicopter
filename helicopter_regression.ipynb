{
 "cells": [
  {
   "cell_type": "code",
   "execution_count": null,
   "id": "initial_id",
   "metadata": {
    "collapsed": true
   },
   "outputs": [],
   "source": [
    "import pandas as pd\n",
    "import statsmodels.api as sm\n",
    "import numpy as np\n",
    "from Stargazer1.stargazer import Stargazer # sima Stargazer csomagot előssör le kell tölteni, a Stargazer1-ben csak átírtam magyarra a változók nevét az eredménytáblákhoz\n",
    "import matplotlib.pyplot as plt"
   ]
  },
  {
   "cell_type": "code",
   "execution_count": null,
   "outputs": [],
   "source": [
    "helicopter = pd.read_excel('helicopter.xlsx', sheet_name='goodcountries_nooutliers') # elérési út megadása, az outlieres verzióhoz sheet_name='goodcountries_justvalues'\n",
    "helicopter['összes eset (1000 főre jutó)']=helicopter['összes eset']/helicopter['népesség']*1000\n",
    "helicopter['összes halál (1000 főre jutó)']=helicopter['összes halál']/helicopter['népesség']*1000"
   ],
   "metadata": {
    "collapsed": false
   },
   "id": "118319aab32bd6ee"
  },
  {
   "cell_type": "code",
   "execution_count": null,
   "outputs": [],
   "source": [
    "# Szűrt df, ha külön kell valamelyik minta (a negyedéves GDP/infláció, jegybanki alapkamat kontrollra is elérhető, Eurozóna nélküli stb.\n",
    "# Alaphelyzetben kikapcsolva, #\n",
    "\n",
    "#helicopter = helicopter[helicopter['negyedéves GDP kontroll'].notna()]\n",
    "#helicopter = helicopter[helicopter['negyedéves infláció kontroll'].notna()]\n",
    "#helicopter = helicopter[helicopter['jegybanki alapkamat változás'].notna()]\n",
    "#helicopter = helicopter[helicopter['Eurozone']=='no']"
   ],
   "metadata": {
    "collapsed": false
   },
   "id": "6875518db5f20d19"
  },
  {
   "cell_type": "code",
   "execution_count": null,
   "outputs": [],
   "source": [
    "# A gdp_model, infl_model elemei, CSERÉLGETNI KELL A TAGOKAT AZ ADOTT BECSLÉSEK FÜGGVÉNYÉBEN! MINDIG AZOK A VÁLTOZÓK LEGYENEK ITT MEGADVA A MODELLBEN, AMIRE KÍVÁNCSIÁK VAGYUNK!\n",
    "# Ha negyedéves GDP kontrollal megy a becslés, akkor '2019 reál GDP növekedés' és 'negyedéves GDP kontroll' a kontroll.\n",
    "# Ha negyedéves GDP kontroll nélküli, akkor 2020 esetében csak '2019 reál GDP növekedés', 2021-től '2020 reál GDP növekedés' is kontroll.\n",
    "# Ha van negyedéves inflációs kontroll, akkor 'negyedéves infláció kontroll' is bekerül a modellbe.\n",
    "# A regressziós startgazer output táblában a .covariate_order mindig a megfelelő modell elemeit kell, hogy tartalmazza (első 3 változó ugyanaz mindig, utána a gdp_model3/infl_model3 változói, majd const).\n",
    "\n",
    "heli_y = helicopter[['GDP 2020', 'reál GDP növekedés (1 év)', 'reál GDP növekedés (2 év)', 'reál GDP növekedés (3 év)', 'infláció 2020', 'infláció (1 év)', 'infláció (2 év)', 'infláció (3 év)']]\n",
    "gdp_model1 = helicopter[['2019 reál GDP növekedés' ,'szolgáltatások (GDP százalékában)', 'Covid lezárás index (stringency)' ]]\n",
    "gdp_model2 = helicopter[['2019 reál GDP növekedés', 'szolgáltatások (GDP százalékában)', 'Covid lezárás index (stringency)', 'összes halál (1000 főre jutó)', '65 évnél idősebbek aránya']]\n",
    "gdp_model3 = helicopter[['2019 reál GDP növekedés','szolgáltatások (GDP százalékában)', 'Covid lezárás index (stringency)', 'összes halál (1000 főre jutó)', '65 évnél idősebbek aránya', 'nettó energiaimport', 'kormányzati hatékonyság index', 'jegybanki alapkamat változás']]\n",
    "infl_model1 = helicopter[['átlagos infláció (2009-2019)','szolgáltatások (GDP százalékában)', 'Covid lezárás index (stringency)']]\n",
    "infl_model2 = helicopter[['átlagos infláció (2009-2019)', 'szolgáltatások (GDP százalékában)', 'Covid lezárás index (stringency)', 'összes halál (1000 főre jutó)', '65 évnél idősebbek aránya']]\n",
    "infl_model3 = helicopter[['átlagos infláció (2009-2019)', 'szolgáltatások (GDP százalékában)', 'Covid lezárás index (stringency)', 'összes halál (1000 főre jutó)', '65 évnél idősebbek aránya', 'nettó energiaimport', 'kormányzati hatékonyság index', 'jegybanki alapkamat változás']]\n",
    "helicopter.iloc[:, 3:] = helicopter.iloc[:, 3:].apply(lambda x:pd.to_numeric(x, errors='coerce'))"
   ],
   "metadata": {
    "collapsed": false
   },
   "id": "de592ea18831419f"
  },
  {
   "cell_type": "code",
   "execution_count": null,
   "outputs": [],
   "source": [
    "# GDP BECSLÉS\n",
    "\n",
    "# BRUTTÓ ADÓSSÁG, MÉRLEGFŐÖSSZEG\n",
    "\n",
    "#gdp_year változó, 2020-nál 0, 1 éves növekedésnél 1, 2 éves növekedésnél 2, 3 éves növekedésnél 3\n",
    "\n",
    "gdp_year = 0\n",
    "\n",
    "res_1 = sm.OLS(heli_y.iloc[:,gdp_year], sm.add_constant(pd.concat([helicopter[['bruttó adósság']], helicopter[['jegybank mérlegfőösszeg']] ,gdp_model1], axis=1)), missing='drop').fit(cov_type='HC1', use_t=True)\n",
    "res_2 = sm.OLS(heli_y.iloc[:,gdp_year], sm.add_constant(pd.concat([helicopter[['bruttó adósság']], helicopter[['jegybank mérlegfőösszeg']], helicopter[['helikopter interakció (bruttó adósság, mérlegfőösszeg)']] ,gdp_model1], axis=1)), missing='drop').fit(cov_type='HC1', use_t=True)\n",
    "res_3 = sm.OLS(heli_y.iloc[:,gdp_year], sm.add_constant(pd.concat([helicopter[['bruttó adósság']], helicopter[['jegybank mérlegfőösszeg']], helicopter[['helikopter interakció (bruttó adósság, mérlegfőösszeg)']] ,gdp_model2], axis=1)), missing='drop').fit(cov_type='HC1', use_t=True)\n",
    "res_4 = sm.OLS(heli_y.iloc[:,gdp_year], sm.add_constant(pd.concat([helicopter[['bruttó adósság']], helicopter[['jegybank mérlegfőösszeg']], helicopter[['helikopter interakció (bruttó adósság, mérlegfőösszeg)']] ,gdp_model3], axis=1)), missing='drop').fit(cov_type='HC1', use_t=True)\n",
    "stargazer = Stargazer([res_1, res_2, res_3, res_4]) #Stargazer package kell hozzá\n",
    "stargazer.show_degrees_of_freedom(False)\n",
    "stargazer.rename_covariates({'const': 'konstans'})\n",
    "stargazer.covariate_order(['bruttó adósság', 'jegybank mérlegfőösszeg', 'helikopter interakció (bruttó adósság, mérlegfőösszeg)', '2019 reál GDP növekedés',  'szolgáltatások (GDP százalékában)', 'Covid lezárás index (stringency)', 'összes halál (1000 főre jutó)', '65 évnél idősebbek aránya', 'nettó energiaimport', 'kormányzati hatékonyság index', 'jegybanki alapkamat változás', 'const'])\n",
    "print(stargazer.render_latex()) #LaTeX kód, ami utána beolvaható\n",
    "# Pythonban a summary-vel megnézhető az eredmény"
   ],
   "metadata": {
    "collapsed": false
   },
   "id": "443b211bd4939cd5"
  },
  {
   "cell_type": "code",
   "execution_count": null,
   "outputs": [],
   "source": [
    "# GDP BECSLÉS\n",
    "\n",
    "# BRUTTÓ ADÓSSÁG, KÖVETELÉSEK\n",
    "\n",
    "gdp_year = 0\n",
    "\n",
    "res_1 = sm.OLS(heli_y.iloc[:,gdp_year], sm.add_constant(pd.concat([helicopter[['bruttó adósság']], helicopter[['kormányzattal szembeni bruttó követelés']] ,gdp_model1], axis=1)), missing='drop').fit(cov_type='HC1', use_t=True)\n",
    "res_2 = sm.OLS(heli_y.iloc[:,gdp_year], sm.add_constant(pd.concat([helicopter[['bruttó adósság']], helicopter[['kormányzattal szembeni bruttó követelés']], helicopter[['helikopter interakció (bruttó adósság, követelések)']] ,gdp_model1], axis=1)), missing='drop').fit(cov_type='HC1', use_t=True)\n",
    "res_3 = sm.OLS(heli_y.iloc[:,gdp_year], sm.add_constant(pd.concat([helicopter[['bruttó adósság']], helicopter[['kormányzattal szembeni bruttó követelés']], helicopter[['helikopter interakció (bruttó adósság, követelések)']] ,gdp_model2], axis=1)), missing='drop').fit(cov_type='HC1', use_t=True)\n",
    "res_4 = sm.OLS(heli_y.iloc[:,gdp_year], sm.add_constant(pd.concat([helicopter[['bruttó adósság']], helicopter[['kormányzattal szembeni bruttó követelés']], helicopter[['helikopter interakció (bruttó adósság, követelések)']] ,gdp_model3], axis=1)), missing='drop').fit(cov_type='HC1', use_t=True)\n",
    "stargazer = Stargazer([res_1, res_2, res_3, res_4])\n",
    "stargazer.show_degrees_of_freedom(False)\n",
    "stargazer.rename_covariates({'const': 'konstans'})\n",
    "stargazer.covariate_order(['bruttó adósság', 'kormányzattal szembeni bruttó követelés', 'helikopter interakció (bruttó adósság, követelések)', '2019 reál GDP növekedés', 'szolgáltatások (GDP százalékában)', 'Covid lezárás index (stringency)', 'összes halál (1000 főre jutó)', '65 évnél idősebbek aránya', 'nettó energiaimport', 'kormányzati hatékonyság index', 'jegybanki alapkamat változás', 'const'])\n",
    "print(stargazer.render_latex())\n",
    "\n",
    "# Fiskális politika marginális hatásához az ábra\n",
    "\n",
    "betas = res_2.params[1:4]\n",
    "yaxes_fis = betas[0]+betas[2]*(helicopter['kormányzattal szembeni bruttó követelés']-np.nanmean(helicopter['kormányzattal szembeni bruttó követelés']))\n",
    "xaxes_fis = (helicopter[['kormányzattal szembeni bruttó követelés']]-np.nanmean(helicopter[['kormányzattal szembeni bruttó követelés']]))/(np.nanvar(helicopter[['kormányzattal szembeni bruttó követelés']])**0.5)\n",
    "\n",
    "plot=plt.plot(xaxes_fis,yaxes_fis)\n",
    "plt.axhline(y=0, color='r', linestyle='--')\n",
    "plt.xlabel('Monetáris politika reakciója')\n",
    "plt.ylabel('Fiskális politika marginális hatása')\n",
    "plt.title('GDP')"
   ],
   "metadata": {
    "collapsed": false
   },
   "id": "f9fd7c3f627b451d"
  },
  {
   "cell_type": "code",
   "execution_count": null,
   "outputs": [],
   "source": [
    "# GDP BECSLÉS\n",
    "\n",
    "# KIADÁSOK, MÉRLEGFŐÖSSZEG\n",
    "\n",
    "gdp_year = 0\n",
    "\n",
    "res_1 = sm.OLS(heli_y.iloc[:,gdp_year], sm.add_constant(pd.concat([helicopter[['kormányzati kiadások']], helicopter[['jegybank mérlegfőösszeg']] ,gdp_model1], axis=1)), missing='drop').fit(cov_type='HC1', use_t=True)\n",
    "res_2 = sm.OLS(heli_y.iloc[:,gdp_year], sm.add_constant(pd.concat([helicopter[['kormányzati kiadások']], helicopter[['jegybank mérlegfőösszeg']], helicopter[['helikopter interakció (kiadások, mérlegfőösszeg)']] ,gdp_model1], axis=1)), missing='drop').fit(cov_type='HC1', use_t=True)\n",
    "res_3 = sm.OLS(heli_y.iloc[:,gdp_year], sm.add_constant(pd.concat([helicopter[['kormányzati kiadások']], helicopter[['jegybank mérlegfőösszeg']], helicopter[['helikopter interakció (kiadások, mérlegfőösszeg)']] ,gdp_model2], axis=1)), missing='drop').fit(cov_type='HC1', use_t=True)\n",
    "res_4 = sm.OLS(heli_y.iloc[:,gdp_year], sm.add_constant(pd.concat([helicopter[['kormányzati kiadások']], helicopter[['jegybank mérlegfőösszeg']], helicopter[['helikopter interakció (kiadások, mérlegfőösszeg)']] ,gdp_model3], axis=1)), missing='drop').fit(cov_type='HC1', use_t=True)\n",
    "stargazer = Stargazer([res_1, res_2, res_3, res_4])\n",
    "stargazer.show_degrees_of_freedom(False)\n",
    "stargazer.rename_covariates({'const': 'konstans'})\n",
    "stargazer.covariate_order(['kormányzati kiadások', 'jegybank mérlegfőösszeg', 'helikopter interakció (kiadások, mérlegfőösszeg)', '2019 reál GDP növekedés', 'szolgáltatások (GDP százalékában)', 'Covid lezárás index (stringency)', 'összes halál (1000 főre jutó)', '65 évnél idősebbek aránya', 'nettó energiaimport', 'kormányzati hatékonyság index', 'jegybanki alapkamat változás', 'const'])\n",
    "print(stargazer.render_latex())"
   ],
   "metadata": {
    "collapsed": false
   },
   "id": "245fc10c173e5bbc"
  },
  {
   "cell_type": "code",
   "execution_count": null,
   "outputs": [],
   "source": [
    "# GDP BECSLÉS\n",
    "\n",
    "# KIADÁSOK, KÖVETELÉSEK\n",
    "\n",
    "#helicopter['helikopter interakció (kiadások, követelések)']=helicopter['kormányzati kiadások']*helicopter['kormányzattal szembeni bruttó követelés'] #ha nem centrálva szeretnénk az interakciós tagot megkapni\n",
    "\n",
    "gdp_year = 3\n",
    "\n",
    "res_1 = sm.OLS(heli_y.iloc[:,gdp_year], sm.add_constant(pd.concat([helicopter[['kormányzati kiadások']], helicopter[['kormányzattal szembeni bruttó követelés']] ,gdp_model1], axis=1)), missing='drop').fit(cov_type='HC1', use_t=True)\n",
    "res_2 = sm.OLS(heli_y.iloc[:,gdp_year], sm.add_constant(pd.concat([helicopter[['kormányzati kiadások']], helicopter[['kormányzattal szembeni bruttó követelés']], helicopter[['helikopter interakció (kiadások, követelések)']] ,gdp_model1], axis=1)), missing='drop').fit(cov_type='HC1', use_t=True)\n",
    "res_3 = sm.OLS(heli_y.iloc[:,gdp_year], sm.add_constant(pd.concat([helicopter[['kormányzati kiadások']], helicopter[['kormányzattal szembeni bruttó követelés']], helicopter[['helikopter interakció (kiadások, követelések)']] ,gdp_model2], axis=1)), missing='drop').fit(cov_type='HC1', use_t=True)\n",
    "res_4 = sm.OLS(heli_y.iloc[:,gdp_year], sm.add_constant(pd.concat([helicopter[['kormányzati kiadások']], helicopter[['kormányzattal szembeni bruttó követelés']], helicopter[['helikopter interakció (kiadások, követelések)']] ,gdp_model3], axis=1)), missing='drop').fit(cov_type='HC1', use_t=True)\n",
    "stargazer = Stargazer([res_1, res_2, res_3, res_4])\n",
    "stargazer.show_degrees_of_freedom(False)\n",
    "stargazer.rename_covariates({'const': 'konstans'})\n",
    "stargazer.covariate_order(['kormányzati kiadások', 'kormányzattal szembeni bruttó követelés', 'helikopter interakció (kiadások, követelések)', '2019 reál GDP növekedés', 'negyedéves GDP kontroll', 'szolgáltatások (GDP százalékában)', 'Covid lezárás index (stringency)', 'összes halál (1000 főre jutó)', '65 évnél idősebbek aránya', 'nettó energiaimport', 'kormányzati hatékonyság index', 'jegybanki alapkamat változás', 'const'])\n",
    "print(stargazer.render_latex())"
   ],
   "metadata": {
    "collapsed": false
   },
   "id": "3d831f8e05814acb"
  },
  {
   "cell_type": "code",
   "execution_count": null,
   "outputs": [],
   "source": [
    "# NEM HASZNÁLTAM VÉGÜL A DOLGOZATBAN\n",
    "\n",
    "# GDP BECSLÉS\n",
    "\n",
    "# IMF KIADÁSOK, MÉRLEGFŐÖSSZEG\n",
    "\n",
    "\n",
    "gdp_year = 2\n",
    "\n",
    "res_1 = sm.OLS(heli_y.iloc[:,gdp_year], sm.add_constant(pd.concat([helicopter[['IMF fiskális kiadások (összes)']], helicopter[['jegybank mérlegfőösszeg']] ,gdp_model1], axis=1)), missing='drop').fit(cov_type='HC1', use_t=True)\n",
    "res_2 = sm.OLS(heli_y.iloc[:,gdp_year], sm.add_constant(pd.concat([helicopter[['IMF fiskális kiadások (összes)']], helicopter[['jegybank mérlegfőösszeg']], helicopter[['helikopter interakció (IMF, mérlegfőösszeg)']] ,gdp_model1], axis=1)), missing='drop').fit(cov_type='HC1', use_t=True)\n",
    "res_3 = sm.OLS(heli_y.iloc[:,gdp_year], sm.add_constant(pd.concat([helicopter[['IMF fiskális kiadások (összes)']], helicopter[['jegybank mérlegfőösszeg']], helicopter[['helikopter interakció (IMF, mérlegfőösszeg)']] ,gdp_model2], axis=1)), missing='drop').fit(cov_type='HC1', use_t=True)\n",
    "res_4 = sm.OLS(heli_y.iloc[:,gdp_year], sm.add_constant(pd.concat([helicopter[['IMF fiskális kiadások (összes)']], helicopter[['jegybank mérlegfőösszeg']], helicopter[['helikopter interakció (IMF, mérlegfőösszeg)']] ,gdp_model3], axis=1)), missing='drop').fit(cov_type='HC1', use_t=True)\n",
    "stargazer = Stargazer([res_1, res_2, res_3, res_4])\n",
    "stargazer.show_degrees_of_freedom(False)\n",
    "stargazer.rename_covariates({'const': 'konstans'})\n",
    "stargazer.covariate_order(['IMF fiskális kiadások (összes)', 'jegybank mérlegfőösszeg', 'helikopter interakció (IMF, mérlegfőösszeg)', '2019 reál GDP növekedés', 'negyedéves GDP kontroll', 'szolgáltatások (GDP százalékában)', 'Covid lezárás index (stringency)', 'összes halál (1000 főre jutó)', '65 évnél idősebbek aránya', 'nettó energiaimport', 'kormányzati hatékonyság index', 'jegybanki alapkamat változás', 'const'])\n",
    "print(stargazer.render_latex())"
   ],
   "metadata": {
    "collapsed": false
   },
   "id": "c8dbaf1f1ee0011"
  },
  {
   "cell_type": "code",
   "execution_count": null,
   "outputs": [],
   "source": [
    "# NEM HASZNÁLTAM VÉGÜL A DOLGOZATBAN\n",
    "\n",
    "# GDP BECSLÉS\n",
    "\n",
    "# IMF KIADÁSOK, KÖVETELÉSEK\n",
    "\n",
    "gdp_year = 0\n",
    "\n",
    "res_1 = sm.OLS(heli_y.iloc[:,gdp_year], sm.add_constant(pd.concat([helicopter[['IMF fiskális kiadások (összes)']], helicopter[['kormányzattal szembeni bruttó követelés']] ,gdp_model1], axis=1)), missing='drop').fit(cov_type='HC1', use_t=True)\n",
    "res_2 = sm.OLS(heli_y.iloc[:,gdp_year], sm.add_constant(pd.concat([helicopter[['IMF fiskális kiadások (összes)']], helicopter[['kormányzattal szembeni bruttó követelés']], helicopter[['helikopter interakció (IMF, követelések)']] ,gdp_model1], axis=1)), missing='drop').fit(cov_type='HC1', use_t=True)\n",
    "res_3 = sm.OLS(heli_y.iloc[:,gdp_year], sm.add_constant(pd.concat([helicopter[['IMF fiskális kiadások (összes)']], helicopter[['kormányzattal szembeni bruttó követelés']], helicopter[['helikopter interakció (IMF, követelések)']] ,gdp_model2], axis=1)), missing='drop').fit(cov_type='HC1', use_t=True)\n",
    "res_4 = sm.OLS(heli_y.iloc[:,gdp_year], sm.add_constant(pd.concat([helicopter[['IMF fiskális kiadások (összes)']], helicopter[['kormányzattal szembeni bruttó követelés']], helicopter[['helikopter interakció (IMF, követelések)']] ,gdp_model3], axis=1)), missing='drop').fit(cov_type='HC1', use_t=True)\n",
    "stargazer = Stargazer([res_1, res_2, res_3, res_4])\n",
    "stargazer.show_degrees_of_freedom(False)\n",
    "stargazer.rename_covariates({'const': 'konstans'})\n",
    "stargazer.covariate_order(['IMF fiskális kiadások (összes)', 'kormányzattal szembeni bruttó követelés', 'helikopter interakció (IMF, követelések)', '2019 reál GDP növekedés', 'negyedéves GDP kontroll', 'szolgáltatások (GDP százalékában)', 'Covid lezárás index (stringency)', 'összes halál (1000 főre jutó)', '65 évnél idősebbek aránya', 'nettó energiaimport', 'kormányzati hatékonyság index', 'jegybanki alapkamat változás', 'const'])\n",
    "print(stargazer.render_latex())"
   ],
   "metadata": {
    "collapsed": false
   },
   "id": "68ec846cc5836cca"
  },
  {
   "cell_type": "code",
   "execution_count": null,
   "outputs": [],
   "source": [
    "# INFLÁCIÓ BECSLÉSE\n",
    "\n",
    "# 2020: infl_year = 4, 1 év = 5, 2 év = 6, 3 év = 7\n",
    "\n",
    "# BRUTTÓ ADÓSSÁG, MÉRLEGFŐÖSSZEG\n",
    "\n",
    "infl_year = 4\n",
    "\n",
    "res_1 = sm.OLS(heli_y.iloc[:,infl_year], sm.add_constant(pd.concat([helicopter[['bruttó adósság']], helicopter[['jegybank mérlegfőösszeg']] ,infl_model1], axis=1)), missing='drop').fit(cov_type='HC1', use_t=True)\n",
    "res_2 = sm.OLS(heli_y.iloc[:,infl_year], sm.add_constant(pd.concat([helicopter[['bruttó adósság']], helicopter[['jegybank mérlegfőösszeg']], helicopter[['helikopter interakció (bruttó adósság, mérlegfőösszeg)']] ,infl_model1], axis=1)), missing='drop').fit(cov_type='HC1', use_t=True)\n",
    "res_3 = sm.OLS(heli_y.iloc[:,infl_year], sm.add_constant(pd.concat([helicopter[['bruttó adósság']], helicopter[['jegybank mérlegfőösszeg']], helicopter[['helikopter interakció (bruttó adósság, mérlegfőösszeg)']] ,infl_model2], axis=1)), missing='drop').fit(cov_type='HC1', use_t=True)\n",
    "res_4 = sm.OLS(heli_y.iloc[:,infl_year], sm.add_constant(pd.concat([helicopter[['bruttó adósság']], helicopter[['jegybank mérlegfőösszeg']], helicopter[['helikopter interakció (bruttó adósság, mérlegfőösszeg)']] ,infl_model3], axis=1)), missing='drop').fit(cov_type='HC1', use_t=True)\n",
    "stargazer = Stargazer([res_1, res_2, res_3, res_4])\n",
    "stargazer.show_degrees_of_freedom(False)\n",
    "stargazer.rename_covariates({'const': 'konstans'})\n",
    "stargazer.covariate_order(['bruttó adósság', 'jegybank mérlegfőösszeg', 'helikopter interakció (bruttó adósság, mérlegfőösszeg)', 'átlagos infláció (2009-2019)', 'szolgáltatások (GDP százalékában)', 'Covid lezárás index (stringency)', 'összes halál (1000 főre jutó)', '65 évnél idősebbek aránya', 'nettó energiaimport', 'kormányzati hatékonyság index', 'jegybanki alapkamat változás', 'const'])\n",
    "print(stargazer.render_latex())"
   ],
   "metadata": {
    "collapsed": false
   },
   "id": "cb4ef919a510cb15"
  },
  {
   "cell_type": "code",
   "execution_count": null,
   "outputs": [],
   "source": [
    "# INFLÁCIÓ BECSLÉSE\n",
    "\n",
    "# BRUTTÓ ADÓSSÁG, KÖVETELÉSEK\n",
    "\n",
    "infl_year = 9\n",
    "\n",
    "res_1 = sm.OLS(heli_y.iloc[:,infl_year], sm.add_constant(pd.concat([helicopter[['bruttó adósság']], helicopter[['kormányzattal szembeni bruttó követelés']] ,infl_model1], axis=1)), missing='drop').fit(cov_type='HC1', use_t=True)\n",
    "res_2 = sm.OLS(heli_y.iloc[:,infl_year], sm.add_constant(pd.concat([helicopter[['bruttó adósság']], helicopter[['kormányzattal szembeni bruttó követelés']], helicopter[['helikopter interakció (bruttó adósság, követelések)']] ,infl_model1], axis=1)), missing='drop').fit(cov_type='HC1', use_t=True)\n",
    "res_3 = sm.OLS(heli_y.iloc[:,infl_year], sm.add_constant(pd.concat([helicopter[['bruttó adósság']], helicopter[['kormányzattal szembeni bruttó követelés']], helicopter[['helikopter interakció (bruttó adósság, követelések)']] ,infl_model2], axis=1)), missing='drop').fit(cov_type='HC1', use_t=True)\n",
    "res_4 = sm.OLS(heli_y.iloc[:,infl_year], sm.add_constant(pd.concat([helicopter[['bruttó adósság']], helicopter[['kormányzattal szembeni bruttó követelés']], helicopter[['helikopter interakció (bruttó adósság, követelések)']] ,infl_model3], axis=1)), missing='drop').fit(cov_type='HC1', use_t=True)\n",
    "stargazer = Stargazer([res_1, res_2, res_3, res_4])\n",
    "stargazer.show_degrees_of_freedom(False)\n",
    "stargazer.rename_covariates({'const': 'konstans'})\n",
    "stargazer.covariate_order(['bruttó adósság', 'kormányzattal szembeni bruttó követelés', 'helikopter interakció (bruttó adósság, követelések)', 'átlagos infláció (2009-2019)', 'szolgáltatások (GDP százalékában)', 'Covid lezárás index (stringency)', 'összes halál (1000 főre jutó)', '65 évnél idősebbek aránya', 'nettó energiaimport', 'kormányzati hatékonyság index', 'jegybanki alapkamat változás', 'const'])\n",
    "print(stargazer.render_latex())"
   ],
   "metadata": {
    "collapsed": false
   },
   "id": "467fd85f153decb1"
  },
  {
   "cell_type": "code",
   "execution_count": null,
   "outputs": [],
   "source": [
    "# INFLÁCIÓ BECSLÉSE\n",
    "\n",
    "# KIADÁSOK, MÉRLEGFŐÖSSZEG\n",
    "\n",
    "infl_year = 5\n",
    "\n",
    "res_1 = sm.OLS(heli_y.iloc[:,infl_year], sm.add_constant(pd.concat([helicopter[['kormányzati kiadások']], helicopter[['jegybank mérlegfőösszeg']] ,infl_model1], axis=1)), missing='drop').fit(cov_type='HC1', use_t=True)\n",
    "res_2 = sm.OLS(heli_y.iloc[:,infl_year], sm.add_constant(pd.concat([helicopter[['kormányzati kiadások']], helicopter[['jegybank mérlegfőösszeg']], helicopter[['helikopter interakció (kiadások, mérlegfőösszeg)']] ,infl_model1], axis=1)), missing='drop').fit(cov_type='HC1', use_t=True)\n",
    "res_3 = sm.OLS(heli_y.iloc[:,infl_year], sm.add_constant(pd.concat([helicopter[['kormányzati kiadások']], helicopter[['jegybank mérlegfőösszeg']], helicopter[['helikopter interakció (kiadások, mérlegfőösszeg)']] ,infl_model2], axis=1)), missing='drop').fit(cov_type='HC1', use_t=True)\n",
    "res_4 = sm.OLS(heli_y.iloc[:,infl_year], sm.add_constant(pd.concat([helicopter[['kormányzati kiadások']], helicopter[['jegybank mérlegfőösszeg']], helicopter[['helikopter interakció (kiadások, mérlegfőösszeg)']] ,infl_model3], axis=1)), missing='drop').fit(cov_type='HC1', use_t=True)\n",
    "stargazer = Stargazer([res_1, res_2, res_3, res_4])\n",
    "stargazer.show_degrees_of_freedom(False)\n",
    "stargazer.rename_covariates({'const': 'konstans'})\n",
    "stargazer.covariate_order(['kormányzati kiadások', 'jegybank mérlegfőösszeg', 'helikopter interakció (kiadások, mérlegfőösszeg)', 'átlagos infláció (2009-2019)', 'szolgáltatások (GDP százalékában)', 'Covid lezárás index (stringency)', 'összes halál (1000 főre jutó)', '65 évnél idősebbek aránya', 'nettó energiaimport', 'kormányzati hatékonyság index', 'jegybanki alapkamat változás', 'const'])\n",
    "print(stargazer.render_latex())"
   ],
   "metadata": {
    "collapsed": false
   },
   "id": "f1ca4cc43060b5b8"
  },
  {
   "cell_type": "code",
   "execution_count": null,
   "outputs": [],
   "source": [
    "# INFLÁCIÓ BECSLÉSE\n",
    "\n",
    "# KIADÁSOK, KÖVETELÉSEK\n",
    "\n",
    "infl_year = 5\n",
    "\n",
    "res_1 = sm.OLS(heli_y.iloc[:,infl_year], sm.add_constant(pd.concat([helicopter[['kormányzati kiadások']], helicopter[['kormányzattal szembeni bruttó követelés']] ,infl_model1], axis=1)), missing='drop').fit(cov_type='HC1', use_t=True)\n",
    "res_2 = sm.OLS(heli_y.iloc[:,infl_year], sm.add_constant(pd.concat([helicopter[['kormányzati kiadások']], helicopter[['kormányzattal szembeni bruttó követelés']], helicopter[['helikopter interakció (kiadások, követelések)']] ,infl_model1], axis=1)), missing='drop').fit(cov_type='HC1', use_t=True)\n",
    "res_3 = sm.OLS(heli_y.iloc[:,infl_year], sm.add_constant(pd.concat([helicopter[['kormányzati kiadások']], helicopter[['kormányzattal szembeni bruttó követelés']], helicopter[['helikopter interakció (kiadások, követelések)']] ,infl_model2], axis=1)), missing='drop').fit(cov_type='HC1', use_t=True)\n",
    "res_4 = sm.OLS(heli_y.iloc[:,infl_year], sm.add_constant(pd.concat([helicopter[['kormányzati kiadások']], helicopter[['kormányzattal szembeni bruttó követelés']], helicopter[['helikopter interakció (kiadások, követelések)']] ,infl_model3], axis=1)), missing='drop').fit(cov_type='HC1', use_t=True)\n",
    "stargazer = Stargazer([res_1, res_2, res_3, res_4])\n",
    "stargazer.show_degrees_of_freedom(False)\n",
    "stargazer.rename_covariates({'const': 'konstans'})\n",
    "stargazer.covariate_order(['kormányzati kiadások', 'kormányzattal szembeni bruttó követelés', 'helikopter interakció (kiadások, követelések)', 'átlagos infláció (2009-2019)', 'szolgáltatások (GDP százalékában)', 'Covid lezárás index (stringency)', 'összes halál (1000 főre jutó)', '65 évnél idősebbek aránya', 'nettó energiaimport', 'kormányzati hatékonyság index', 'jegybanki alapkamat változás', 'const'])\n",
    "print(stargazer.render_latex())"
   ],
   "metadata": {
    "collapsed": false
   },
   "id": "1d856cacb56fe408"
  },
  {
   "cell_type": "code",
   "execution_count": null,
   "outputs": [],
   "source": [
    "# NEM HASZNÁLTAM VÉGÜL A DOLGOZATBAN\n",
    "\n",
    "# INFLÁCIÓ BECSLÉSE\n",
    "\n",
    "# IMF, MÉRLEGFŐÖSSZEG\n",
    "\n",
    "infl_year = 5\n",
    "\n",
    "res_1 = sm.OLS(heli_y.iloc[:,infl_year], sm.add_constant(pd.concat([helicopter[['IMF fiskális kiadások (összes)']], helicopter[['jegybank mérlegfőösszeg']] ,infl_model1], axis=1)), missing='drop').fit(cov_type='HC1', use_t=True)\n",
    "res_2 = sm.OLS(heli_y.iloc[:,infl_year], sm.add_constant(pd.concat([helicopter[['IMF fiskális kiadások (összes)']], helicopter[['jegybank mérlegfőösszeg']], helicopter[['helikopter interakció (IMF, mérlegfőösszeg)']] ,infl_model1], axis=1)), missing='drop').fit(cov_type='HC1', use_t=True)\n",
    "res_3 = sm.OLS(heli_y.iloc[:,infl_year], sm.add_constant(pd.concat([helicopter[['IMF fiskális kiadások (összes)']], helicopter[['jegybank mérlegfőösszeg']], helicopter[['helikopter interakció (IMF, mérlegfőösszeg)']] ,infl_model2], axis=1)), missing='drop').fit(cov_type='HC1', use_t=True)\n",
    "res_4 = sm.OLS(heli_y.iloc[:,infl_year], sm.add_constant(pd.concat([helicopter[['IMF fiskális kiadások (összes)']], helicopter[['jegybank mérlegfőösszeg']], helicopter[['helikopter interakció (IMF, mérlegfőösszeg)']] ,infl_model3], axis=1)), missing='drop').fit(cov_type='HC1', use_t=True)\n",
    "stargazer = Stargazer([res_1, res_2, res_3, res_4])\n",
    "stargazer.show_degrees_of_freedom(False)\n",
    "stargazer.rename_covariates({'const': 'konstans'})\n",
    "stargazer.covariate_order(['IMF fiskális kiadások (összes)', 'jegybank mérlegfőösszeg', 'helikopter interakció (IMF, mérlegfőösszeg)', 'átlagos infláció (2009-2019)', 'szolgáltatások (GDP százalékában)', 'Covid lezárás index (stringency)', 'összes halál (1000 főre jutó)', '65 évnél idősebbek aránya', 'nettó energiaimport', 'kormányzati hatékonyság index', 'jegybanki alapkamat változás', 'const'])\n",
    "print(stargazer.render_latex())"
   ],
   "metadata": {
    "collapsed": false
   },
   "id": "89425b8973f7c98"
  },
  {
   "cell_type": "code",
   "execution_count": null,
   "outputs": [],
   "source": [
    "# NEM HASZNÁLTAM VÉGÜL A DOLGOZATBAN\n",
    "\n",
    "# INFLÁCIÓ BECSLÉSE\n",
    "\n",
    "# IMF, KÖVETELÉSEK\n",
    "\n",
    "infl_year = 7\n",
    "\n",
    "res_1 = sm.OLS(heli_y.iloc[:,infl_year], sm.add_constant(pd.concat([helicopter[['IMF fiskális kiadások (összes)']], helicopter[['kormányzattal szembeni bruttó követelés']] ,infl_model1], axis=1)), missing='drop').fit(cov_type='HC1', use_t=True)\n",
    "res_2 = sm.OLS(heli_y.iloc[:,infl_year], sm.add_constant(pd.concat([helicopter[['IMF fiskális kiadások (összes)']], helicopter[['kormányzattal szembeni bruttó követelés']], helicopter[['helikopter interakció (IMF, követelések)']] ,infl_model1], axis=1)), missing='drop').fit(cov_type='HC1', use_t=True)\n",
    "res_3 = sm.OLS(heli_y.iloc[:,infl_year], sm.add_constant(pd.concat([helicopter[['IMF fiskális kiadások (összes)']], helicopter[['kormányzattal szembeni bruttó követelés']], helicopter[['helikopter interakció (IMF, követelések)']] ,infl_model2], axis=1)), missing='drop').fit(cov_type='HC1', use_t=True)\n",
    "res_4 = sm.OLS(heli_y.iloc[:,infl_year], sm.add_constant(pd.concat([helicopter[['IMF fiskális kiadások (összes)']], helicopter[['kormányzattal szembeni bruttó követelés']], helicopter[['helikopter interakció (IMF, követelések)']] ,infl_model3], axis=1)), missing='drop').fit(cov_type='HC1', use_t=True)\n",
    "stargazer = Stargazer([res_1, res_2, res_3, res_4])\n",
    "stargazer.show_degrees_of_freedom(False)\n",
    "stargazer.rename_covariates({'const': 'konstans'})\n",
    "stargazer.covariate_order(['IMF fiskális kiadások (összes)', 'kormányzattal szembeni bruttó követelés', 'helikopter interakció (IMF, követelések)', 'átlagos infláció (2009-2019)', 'negyedéves GDP kontroll', 'szolgáltatások (GDP százalékában)', 'Covid lezárás index (stringency)', 'összes halál (1000 főre jutó)', '65 évnél idősebbek aránya', 'nettó energiaimport', 'kormányzati hatékonyság index', 'jegybanki alapkamat változás', 'const'])\n",
    "print(stargazer.render_latex())"
   ],
   "metadata": {
    "collapsed": false
   },
   "id": "f007031309d9ad92"
  }
 ],
 "metadata": {
  "kernelspec": {
   "display_name": "Python 3",
   "language": "python",
   "name": "python3"
  },
  "language_info": {
   "codemirror_mode": {
    "name": "ipython",
    "version": 2
   },
   "file_extension": ".py",
   "mimetype": "text/x-python",
   "name": "python",
   "nbconvert_exporter": "python",
   "pygments_lexer": "ipython2",
   "version": "2.7.6"
  }
 },
 "nbformat": 4,
 "nbformat_minor": 5
}
