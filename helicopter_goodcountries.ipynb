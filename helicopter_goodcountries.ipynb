{
 "cells": [
  {
   "cell_type": "code",
   "execution_count": 1,
   "id": "initial_id",
   "metadata": {
    "collapsed": true,
    "ExecuteTime": {
     "end_time": "2024-04-12T16:56:58.546090800Z",
     "start_time": "2024-04-12T16:56:57.765865500Z"
    }
   },
   "outputs": [],
   "source": [
    "import pandas as pd\n",
    "import numpy as np\n",
    "#nem a sima helikopter nélküli model 1 kellene, hogy legyen a model 1 a végső eredménytáblákban?\n",
    "# lehet úgy kellene, hogy metszet és az értékek, nem kivonva a metszet az adott értékből\n",
    "# centering, mediánt kivonni nem lenne jobb? kiugró értékek kezelése miatt, pl van pár ami nagyon extra...\n",
    "#EKB hiányzik mindenhol, de az EU országok sokszor benne vannak\n",
    "#hitelbesorolás még jó lehet, az befolyásolja az IMF csomagot (vmi IV?)\n",
    "# jegybanki függetlenség\n",
    "# ZLB nem ZLB országok érdekes lehet, valami interakció?\n",
    "#valami ellátási lánc mérésére szolgáló kontroll?\n",
    "#central bank, IMF panel, non-standardized?\n",
    "#változók jobb megértése\n",
    "#negyedéves GDP kevés van\n",
    "#számítások biztos mindenhol jók?\n",
    "#mértékekegységek jók? importálásnál?\n",
    "#országok tisztázása, egységesíteni ami ugyanaz\n",
    "#kiugró értékek? ki kellene valahogy szűrni?\n",
    "#energyimport miért viszi így el?\n",
    "#kontrollok covid, worldbank is eurozónás aggregált kellene, hogy legyen?\n",
    "# 3 éves reál GDP egyértelműen negatív a helicopternél, esetleg itt egy inflációs visszahatás lehet? inflációt emeli, és az visszahat a GDP-re is\n",
    "#interakciós változó elemzése, biztos ez a legjobb? kettő metszete monetáris finanszírozás, ami marad az meg külön külön (viszont így sok a 0 érték...), hogy néz ki\n",
    "# covid esetek első hullámig?\n",
    "# financial corporation survey, oda a jegybank és az összes többi broad money intézmény benne van... ott is van claims on central governance - az nem lehet jó, hogy az összes claim-ből mennyi lett a jegybanknál, mennyi a \"magánszektornál\"?\n",
    "# eu országoknál mit jelent a claims on central gov a jegybanki cuccban? az EKB claim-je? mi a különbség az euro area wide residency meg a sima között?\n",
    "# az összeillesztésnél rosszak az ország nevek, így már pl. az nGDP-t nem tudja hozzá rendelni és NaN lesz, még előtte kell megjavítani...\n",
    "# kormányzati változókat jobban megérteni? Melyik mit fed le? Ha az adósság nő, az megfogja a kormányzeti költekezést? Nem biztos, hogy csak adósságnöveléssel költekeznek? Az expenditure jobb lehet? Vagy az IMF? Ott viszont monetáris oldalról mi fogja meg jól?\n",
    "# ha az expenditure meg a többi fiskális változó az general gov (?), akkor a claims-nek is annak kellene lennie? (central + local, társbizt benne van)"
   ]
  },
  {
   "cell_type": "code",
   "execution_count": 2,
   "outputs": [],
   "source": [
    "ISO_codes = pd.read_csv('/Users/kissr/Downloads/ISO_all.csv')\n",
    "ISO_codes = ISO_codes[['name', 'alpha-3']]\n",
    "ISO_codes['Country']=ISO_codes['name']\n",
    "ISO_codes['ISO']=ISO_codes['alpha-3']\n",
    "ISO_codes=ISO_codes[['ISO', 'Country']]"
   ],
   "metadata": {
    "collapsed": false,
    "ExecuteTime": {
     "end_time": "2024-04-12T16:58:16.172501400Z",
     "start_time": "2024-04-12T16:58:16.124198500Z"
    }
   },
   "id": "b5c81787b377f15a"
  },
  {
   "cell_type": "code",
   "execution_count": 4,
   "outputs": [],
   "source": [
    "nGDP = pd.read_excel('/Users/kissr/Downloads/WEOOct2023all.xlsx', thousands=',', decimal='.')\n",
    "nGDP = nGDP[['WEO Country Code', 'ISO', 'Country', 'WEO Subject Code', 2019, 2020]]\n",
    "nGDP.rename(columns={'WEO Country Code': 'Country Code'}, inplace=True)\n",
    "nGDP = nGDP[nGDP['WEO Subject Code']=='NGDP']\n",
    "nGDP[[2019, 2020]] = nGDP[[2019, 2020]].apply(lambda x:pd.to_numeric(x, errors='coerce'))"
   ],
   "metadata": {
    "collapsed": false,
    "ExecuteTime": {
     "end_time": "2024-04-07T00:02:20.594217Z",
     "start_time": "2024-04-07T00:02:12.928315Z"
    }
   },
   "id": "6ee7a37cffeb753c"
  },
  {
   "cell_type": "code",
   "execution_count": 4,
   "outputs": [
    {
     "data": {
      "text/plain": "                      Country   2019   2020   2021   2022   2023  \\\n0                 Afghanistan  0.039 -0.024 -0.207    NaN    NaN   \n1                     Albania  0.021 -0.033  0.089  0.048  0.036   \n2                     Algeria  0.010 -0.051  0.034  0.032  0.038   \n3                     Andorra  0.020 -0.112  0.083  0.088  0.021   \n4                      Angola -0.007 -0.056  0.012  0.030  0.013   \n..                        ...    ...    ...    ...    ...    ...   \n225  Other advanced economies  0.020 -0.016  0.057  0.026  0.018   \n226        Sub-Saharan Africa  0.032 -0.016  0.047  0.040  0.033   \n227                     World  0.028 -0.028  0.063  0.035  0.030   \n228                       NaN    NaN    NaN    NaN    NaN    NaN   \n229                ©IMF, 2023    NaN    NaN    NaN    NaN    NaN   \n\n     rGDPgrowth_2019_control  rGDPgrowth_2020_control  rGDPgrowth_1y  \\\n0                        3.9                     -2.4          -20.7   \n1                        2.1                     -3.3            8.9   \n2                        1.0                     -5.1            3.4   \n3                        2.0                    -11.2            8.3   \n4                       -0.7                     -5.6            1.2   \n..                       ...                      ...            ...   \n225                      2.0                     -1.6            5.7   \n226                      3.2                     -1.6            4.7   \n227                      2.8                     -2.8            6.3   \n228                      NaN                      NaN            NaN   \n229                      NaN                      NaN            NaN   \n\n     rGDP_growth_2y  rGDP_growth_3y  GDP 2020  GDP 2019-2021  \n0               NaN             NaN      -2.4       -22.6032  \n1           14.1272       18.235779      -3.3         5.3063  \n2            6.7088       10.763734      -5.1        -1.8734  \n3           17.8304       20.304838     -11.2        -3.8296  \n4            4.2360        5.591068      -5.6        -4.4672  \n..              ...             ...       ...            ...  \n225          8.4482       10.400268      -1.6         4.0088  \n226          8.8880       12.481304      -1.6         3.0248  \n227         10.0205       13.321115      -2.8         3.3236  \n228             NaN             NaN       NaN            NaN  \n229             NaN             NaN       NaN            NaN  \n\n[230 rows x 13 columns]",
      "text/html": "<div>\n<style scoped>\n    .dataframe tbody tr th:only-of-type {\n        vertical-align: middle;\n    }\n\n    .dataframe tbody tr th {\n        vertical-align: top;\n    }\n\n    .dataframe thead th {\n        text-align: right;\n    }\n</style>\n<table border=\"1\" class=\"dataframe\">\n  <thead>\n    <tr style=\"text-align: right;\">\n      <th></th>\n      <th>Country</th>\n      <th>2019</th>\n      <th>2020</th>\n      <th>2021</th>\n      <th>2022</th>\n      <th>2023</th>\n      <th>rGDPgrowth_2019_control</th>\n      <th>rGDPgrowth_2020_control</th>\n      <th>rGDPgrowth_1y</th>\n      <th>rGDP_growth_2y</th>\n      <th>rGDP_growth_3y</th>\n      <th>GDP 2020</th>\n      <th>GDP 2019-2021</th>\n    </tr>\n  </thead>\n  <tbody>\n    <tr>\n      <th>0</th>\n      <td>Afghanistan</td>\n      <td>0.039</td>\n      <td>-0.024</td>\n      <td>-0.207</td>\n      <td>NaN</td>\n      <td>NaN</td>\n      <td>3.9</td>\n      <td>-2.4</td>\n      <td>-20.7</td>\n      <td>NaN</td>\n      <td>NaN</td>\n      <td>-2.4</td>\n      <td>-22.6032</td>\n    </tr>\n    <tr>\n      <th>1</th>\n      <td>Albania</td>\n      <td>0.021</td>\n      <td>-0.033</td>\n      <td>0.089</td>\n      <td>0.048</td>\n      <td>0.036</td>\n      <td>2.1</td>\n      <td>-3.3</td>\n      <td>8.9</td>\n      <td>14.1272</td>\n      <td>18.235779</td>\n      <td>-3.3</td>\n      <td>5.3063</td>\n    </tr>\n    <tr>\n      <th>2</th>\n      <td>Algeria</td>\n      <td>0.010</td>\n      <td>-0.051</td>\n      <td>0.034</td>\n      <td>0.032</td>\n      <td>0.038</td>\n      <td>1.0</td>\n      <td>-5.1</td>\n      <td>3.4</td>\n      <td>6.7088</td>\n      <td>10.763734</td>\n      <td>-5.1</td>\n      <td>-1.8734</td>\n    </tr>\n    <tr>\n      <th>3</th>\n      <td>Andorra</td>\n      <td>0.020</td>\n      <td>-0.112</td>\n      <td>0.083</td>\n      <td>0.088</td>\n      <td>0.021</td>\n      <td>2.0</td>\n      <td>-11.2</td>\n      <td>8.3</td>\n      <td>17.8304</td>\n      <td>20.304838</td>\n      <td>-11.2</td>\n      <td>-3.8296</td>\n    </tr>\n    <tr>\n      <th>4</th>\n      <td>Angola</td>\n      <td>-0.007</td>\n      <td>-0.056</td>\n      <td>0.012</td>\n      <td>0.030</td>\n      <td>0.013</td>\n      <td>-0.7</td>\n      <td>-5.6</td>\n      <td>1.2</td>\n      <td>4.2360</td>\n      <td>5.591068</td>\n      <td>-5.6</td>\n      <td>-4.4672</td>\n    </tr>\n    <tr>\n      <th>...</th>\n      <td>...</td>\n      <td>...</td>\n      <td>...</td>\n      <td>...</td>\n      <td>...</td>\n      <td>...</td>\n      <td>...</td>\n      <td>...</td>\n      <td>...</td>\n      <td>...</td>\n      <td>...</td>\n      <td>...</td>\n      <td>...</td>\n    </tr>\n    <tr>\n      <th>225</th>\n      <td>Other advanced economies</td>\n      <td>0.020</td>\n      <td>-0.016</td>\n      <td>0.057</td>\n      <td>0.026</td>\n      <td>0.018</td>\n      <td>2.0</td>\n      <td>-1.6</td>\n      <td>5.7</td>\n      <td>8.4482</td>\n      <td>10.400268</td>\n      <td>-1.6</td>\n      <td>4.0088</td>\n    </tr>\n    <tr>\n      <th>226</th>\n      <td>Sub-Saharan Africa</td>\n      <td>0.032</td>\n      <td>-0.016</td>\n      <td>0.047</td>\n      <td>0.040</td>\n      <td>0.033</td>\n      <td>3.2</td>\n      <td>-1.6</td>\n      <td>4.7</td>\n      <td>8.8880</td>\n      <td>12.481304</td>\n      <td>-1.6</td>\n      <td>3.0248</td>\n    </tr>\n    <tr>\n      <th>227</th>\n      <td>World</td>\n      <td>0.028</td>\n      <td>-0.028</td>\n      <td>0.063</td>\n      <td>0.035</td>\n      <td>0.030</td>\n      <td>2.8</td>\n      <td>-2.8</td>\n      <td>6.3</td>\n      <td>10.0205</td>\n      <td>13.321115</td>\n      <td>-2.8</td>\n      <td>3.3236</td>\n    </tr>\n    <tr>\n      <th>228</th>\n      <td>NaN</td>\n      <td>NaN</td>\n      <td>NaN</td>\n      <td>NaN</td>\n      <td>NaN</td>\n      <td>NaN</td>\n      <td>NaN</td>\n      <td>NaN</td>\n      <td>NaN</td>\n      <td>NaN</td>\n      <td>NaN</td>\n      <td>NaN</td>\n      <td>NaN</td>\n    </tr>\n    <tr>\n      <th>229</th>\n      <td>©IMF, 2023</td>\n      <td>NaN</td>\n      <td>NaN</td>\n      <td>NaN</td>\n      <td>NaN</td>\n      <td>NaN</td>\n      <td>NaN</td>\n      <td>NaN</td>\n      <td>NaN</td>\n      <td>NaN</td>\n      <td>NaN</td>\n      <td>NaN</td>\n      <td>NaN</td>\n    </tr>\n  </tbody>\n</table>\n<p>230 rows × 13 columns</p>\n</div>"
     },
     "execution_count": 4,
     "metadata": {},
     "output_type": "execute_result"
    }
   ],
   "source": [
    "#real GDP growth rate\n",
    "\n",
    "GDP = pd.read_excel('/Users/kissr/Downloads/realGDPgrowth_IMF.xlsx', decimal='.')\n",
    "GDP = GDP[['Real GDP growth (Annual percent change)', 2019, 2020, 2021, 2022, 2023]]\n",
    "GDP.replace('no data', np.nan, inplace=True)\n",
    "GDP[[2019, 2020, 2021, 2022, 2023]] = GDP[[2019, 2020, 2021, 2022, 2023]].apply(lambda x:pd.to_numeric(x, errors='coerce'))\n",
    "GDP[[2019, 2020, 2021, 2022, 2023]]=GDP[[2019, 2020, 2021, 2022, 2023]]/100\n",
    "GDP['rGDPgrowth_2019_control']=GDP[2019]*100\n",
    "GDP['rGDPgrowth_2020_control']=GDP[2020]*100\n",
    "GDP['rGDPgrowth_1y']=GDP[2021]*100\n",
    "GDP['rGDP_growth_2y']=((1+GDP[2021])*(1+GDP[2022])-1)*100\n",
    "GDP['rGDP_growth_3y']=((1+GDP[2021])*(1+GDP[2022])*(1+GDP[2023])-1)*100\n",
    "GDP['GDP 2020']=GDP[2020]*100\n",
    "GDP['GDP 2019-2021'] = ((1+GDP[2020])*(1+GDP[2021])-1)*100\n",
    "GDP=GDP[['Real GDP growth (Annual percent change)','GDP 2019-2021', 'GDP 2020', 'rGDPgrowth_1y', 'rGDP_growth_2y', 'rGDP_growth_3y', 'rGDPgrowth_2019_control', 'rGDPgrowth_2020_control']]\n",
    "GDP.rename(columns={'Real GDP growth (Annual percent change)': 'Country'}, inplace=True)"
   ],
   "metadata": {
    "collapsed": false,
    "ExecuteTime": {
     "end_time": "2024-04-12T16:59:30.305698400Z",
     "start_time": "2024-04-12T16:59:30.090220200Z"
    }
   },
   "id": "946ee0b74ebc4ad1"
  },
  {
   "cell_type": "code",
   "execution_count": 10,
   "outputs": [],
   "source": [
    "#negyedéves GDP növekedési üteme, sok országhoz hiányzik szóval nem biztos, hogy jó kontroll\n",
    "\n",
    "qGDP = pd.read_excel('/Users/kissr/Downloads/IMF_qGDP.xlsx', sheet_name=\"qGDP\", thousands=',', decimal='.')\n",
    "qGDP.iloc[1:,1:]=qGDP.iloc[1:,1:].apply(lambda x:pd.to_numeric(x, errors='coerce'))\n",
    "qGDP['negyedéves GDP kontroll']=(qGDP['2020Q2']/qGDP['2020Q1'])-(qGDP['2019Q2']/qGDP['2019Q1'])\n",
    "qGDP['negyedéves GDP kontroll 2020Q1']=(qGDP['2020Q1']/qGDP['2019Q4'])-(qGDP['2019Q1']/qGDP['2018Q4'])\n",
    "qGDP = qGDP[['Country', 'negyedéves GDP kontroll', 'negyedéves GDP kontroll 2020Q1' ]]\n",
    "qGDP.to_excel('IMF_qGDP.xlsx', index=False)"
   ],
   "metadata": {
    "collapsed": false,
    "ExecuteTime": {
     "end_time": "2024-04-06T09:16:26.912735500Z",
     "start_time": "2024-04-06T09:16:25.797938900Z"
    }
   },
   "id": "5496f6f1b249480d"
  },
  {
   "cell_type": "code",
   "execution_count": 14,
   "outputs": [],
   "source": [
    "#negyedéves infláció\n",
    "\n",
    "qinflation = pd.read_excel('/Users/kissr/Downloads/IMF_qinflation.xlsx', sheet_name=\"qinflation\", thousands=',', decimal='.')\n",
    "qinflation.iloc[1:,1:]=qinflation.iloc[1:,1:].apply(lambda x:pd.to_numeric(x, errors='coerce'))\n",
    "qinflation.replace('...', np.nan, inplace=True)\n",
    "qinflation['negyedéves infláció kontroll']=(qinflation['2020Q2']/qinflation['2020Q1'])-(qinflation['2019Q2']/qinflation['2019Q1'])\n",
    "qinflation = qinflation[['Country', 'negyedéves infláció kontroll']]\n",
    "qinflation.to_excel('IMF_qinflation.xlsx', index=False)"
   ],
   "metadata": {
    "collapsed": false,
    "ExecuteTime": {
     "end_time": "2024-04-06T13:58:59.738517700Z",
     "start_time": "2024-04-06T13:58:59.553521300Z"
    }
   },
   "id": "da65ab2ccd0faee0"
  },
  {
   "cell_type": "code",
   "execution_count": 20,
   "outputs": [],
   "source": [
    "# inflation\n",
    "\n",
    "infl = pd.read_excel('/Users/kissr/Downloads/inflation_IMF.xlsx', decimal='.')\n",
    "infl = infl[['Inflation rate, average consumer prices (Annual percent change)', 2009, 2010, 2011, 2012, 2013, 2014, 2015, 2016, 2017, 2018, 2019, 2020, 2021, 2022, 2023]]\n",
    "infl.replace('no data', np.nan, inplace=True)\n",
    "infl[[2009, 2010, 2011, 2012, 2013, 2014, 2015, 2016, 2017, 2018,2019, 2020, 2021, 2022, 2023]] = infl[[2009, 2010, 2011, 2012, 2013, 2014, 2015, 2016, 2017, 2018,2019, 2020, 2021, 2022, 2023]].apply(lambda x:pd.to_numeric(x, errors='coerce'))\n",
    "infl[[2009, 2010, 2011, 2012, 2013, 2014, 2015, 2016, 2017, 2018,2019, 2020, 2021, 2022, 2023]]=infl[[2009, 2010, 2011, 2012, 2013, 2014, 2015, 2016, 2017, 2018,2019, 2020, 2021, 2022, 2023]]/100\n",
    "infl['infl_1y']=infl[2021]*100\n",
    "infl['infl_2y']=((1+infl[2021])*(1+infl[2022])-1)*100\n",
    "infl['infl_3y']=((1+infl[2021])*(1+infl[2022])*(1+infl[2023])-1)*100\n",
    "infl['infl_avg2009_2019']=(((1+infl[2010])*(1+infl[2011])*(1+infl[2012])*(1+infl[2013])*(1+infl[2014])*(1+infl[2015])*(1+infl[2016])*(1+infl[2017])*(1+infl[2018])*(1+infl[2019]))**(1/10)-1)*100\n",
    "infl['infláció 2020']=infl[2020]*100\n",
    "infl['infláció 2019-2021'] = ((1+infl[2020])*(1+infl[2021])-1)*100\n",
    "infl=infl[['Inflation rate, average consumer prices (Annual percent change)', 'infláció 2020', 'infláció 2019-2021', 'infl_1y', 'infl_2y', 'infl_3y', 'infl_avg2009_2019']]\n",
    "infl.rename(columns={'Inflation rate, average consumer prices (Annual percent change)':'Country'}, inplace=True)\n",
    "infl.to_excel('infl_nov.xlsx', index=False)"
   ],
   "metadata": {
    "collapsed": false,
    "ExecuteTime": {
     "end_time": "2024-04-03T17:28:24.973144700Z",
     "start_time": "2024-04-03T17:28:24.737425100Z"
    }
   },
   "id": "43e5a27914f47abb"
  },
  {
   "cell_type": "code",
   "execution_count": null,
   "outputs": [],
   "source": [
    "# DEPENDENT VARIABLES (+ avg inflation, + q GDP)\n",
    "\n",
    "dep_vars = pd.merge(GDP, infl, on='Country', how='outer')\n",
    "dep_vars = pd.merge(dep_vars, qGDP, on='Country', how='outer')\n",
    "dep_vars"
   ],
   "metadata": {
    "collapsed": false
   },
   "id": "6185659fcdf81360"
  },
  {
   "cell_type": "code",
   "execution_count": null,
   "outputs": [],
   "source": [
    "# gross debt, nominal currency\n",
    "\n",
    "grossdebt_level = pd.read_excel('/Users/kissr/Downloads/WEOOct2023all.xlsx', thousands=',', decimal='.')\n",
    "grossdebt_level = grossdebt_level[['WEO Country Code', 'ISO', 'Country', 'WEO Subject Code', 2019, 2020, 2021, 2022, 2023]]\n",
    "grossdebt_level.rename(columns={'WEO Country Code': 'Country Code'}, inplace=True)\n",
    "grossdebt_level = grossdebt_level[grossdebt_level['WEO Subject Code']=='GGXWDG']\n",
    "grossdebt_level[[2019, 2020]] = grossdebt_level[[2019, 2020]].apply(lambda x:pd.to_numeric(x, errors='coerce'))\n",
    "grossdebt_level=pd.merge(grossdebt_level, nGDP[['Country Code', 2019, 2020]], on='Country Code', how='outer')\n",
    "grossdebt_level['grossdebt_level_change']=((grossdebt_level['2020_x']-grossdebt_level['2019_x'])/grossdebt_level['2019_y'])*100\n",
    "grossdebt_level = grossdebt_level[['Country Code', 'ISO', 'grossdebt_level_change']]\n",
    "grossdebt_level"
   ],
   "metadata": {
    "collapsed": false
   },
   "id": "e57e22b6b17eaadd"
  },
  {
   "cell_type": "code",
   "execution_count": null,
   "outputs": [],
   "source": [
    "# government expenditure, level, nominal currency\n",
    "\n",
    "govexpenditure_level = pd.read_excel('/Users/kissr/Downloads/WEOOct2023all.xlsx', thousands=',', decimal='.')\n",
    "govexpenditure_level = govexpenditure_level[['WEO Country Code','ISO', 'Country', 'WEO Subject Code', 2019, 2020, 2021, 2022, 2023]]\n",
    "govexpenditure_level.rename(columns={'WEO Country Code': 'Country Code'}, inplace=True)\n",
    "govexpenditure_level = govexpenditure_level[govexpenditure_level['WEO Subject Code']=='GGX']\n",
    "govexpenditure_level[[2019, 2020]] = govexpenditure_level[[2019, 2020]].apply(lambda x:pd.to_numeric(x, errors='coerce'))\n",
    "govexpenditure_level=pd.merge(govexpenditure_level, nGDP[['Country Code', 2019, 2020]], on='Country Code', how='outer')\n",
    "govexpenditure_level['govexp_level_change']=((govexpenditure_level['2020_x']-govexpenditure_level['2019_x'])/govexpenditure_level['2019_y'])*100\n",
    "govexpenditure_level = govexpenditure_level[['Country Code', 'ISO', 'govexp_level_change']]\n",
    "govexpenditure_level"
   ],
   "metadata": {
    "collapsed": false
   },
   "id": "4b8dd9d5fbc3c008"
  },
  {
   "cell_type": "code",
   "execution_count": null,
   "outputs": [],
   "source": [
    "# IMF fiscal monitor data, COVID-19 fiscal spending, % of 2020 GDP\n",
    "\n",
    "IMFfiscal_pctGDP = pd.read_excel('/Users/kissr/Downloads/IMF_covid_fiscal.xlsx', sheet_name='imffiscal')\n",
    "IMFfiscal_pctGDP =pd.merge(IMFfiscal_pctGDP, nGDP[['ISO', 'Country Code', 2019, 2020]], on=\"ISO\", how='outer')\n",
    "IMFfiscal_pctGDP['IMF_fiscalspending_ATL']=(IMFfiscal_pctGDP['Additional spending or foregone revenues']*IMFfiscal_pctGDP[2020])/IMFfiscal_pctGDP[2019]\n",
    "IMFfiscal_pctGDP['IMF_fiscalspending_BTL']=(IMFfiscal_pctGDP['Liquidity support']*IMFfiscal_pctGDP[2020])/IMFfiscal_pctGDP[2019]\n",
    "IMFfiscal_pctGDP['IMF_fiscalspending_total']=(IMFfiscal_pctGDP['Total_spending']*IMFfiscal_pctGDP[2020])/IMFfiscal_pctGDP[2019]\n",
    "IMFfiscal_pctGDP['IMF_fiscalspending_ATL_pctTotal']=(IMFfiscal_pctGDP['IMF_fiscalspending_ATL']/IMFfiscal_pctGDP['IMF_fiscalspending_total'])*100\n",
    "IMFfiscal_pctGDP=IMFfiscal_pctGDP[['Country', 'Country Code', 'ISO', 'IMF_fiscalspending_ATL', 'IMF_fiscalspending_BTL', 'IMF_fiscalspending_total', 'IMF_fiscalspending_ATL_pctTotal']]\n",
    "IMFfiscal_pctGDP"
   ],
   "metadata": {
    "collapsed": false
   },
   "id": "b63c6dfa75074ce9"
  },
  {
   "cell_type": "code",
   "execution_count": null,
   "outputs": [],
   "source": [
    "# FISCAL VARS, GOVERNMENT RELATED DATA (HELICOPTER: FISCAL)\n",
    "\n",
    "fiscal_vars = pd.merge(grossdebt_level, govexpenditure_level, on='ISO', how='outer')\n",
    "fiscal_vars = pd.merge(fiscal_vars,  IMFfiscal_pctGDP, on='ISO', how='outer')\n",
    "fiscal_vars=fiscal_vars[['ISO', 'Country', 'Country Code', 'grossdebt_level_change', 'govexp_level_change', 'IMF_fiscalspending_ATL', 'IMF_fiscalspending_BTL', 'IMF_fiscalspending_total', 'IMF_fiscalspending_ATL_pctTotal']]\n",
    "fiscal_vars"
   ],
   "metadata": {
    "collapsed": false
   },
   "id": "c0b08dac3a662876"
  },
  {
   "cell_type": "code",
   "execution_count": null,
   "outputs": [],
   "source": [
    "# claims on central government, IMF panel database (just claims)\n",
    "\n",
    "claimoncgov = pd.read_csv('/Users/kissr/Downloads/IMF_monetarystat_panel.csv')\n",
    "claimoncgov = claimoncgov[['Country Name', 'Country Code', 'Time Period', 'Monetary, Central Bank Survey, Net Claims on Central Government, Claims on Central Government, Domestic Currency (FASAG_XDC)', 'Monetary, Central Bank Survey, Net Claims on Central Government, Claims on Central Government, Euros (FASAG_EUR)', 'Monetary, Central Bank Survey, Net Claims on Central Government, Claims on Central Government, US Dollars (FASAG_USD)']]\n",
    "claimoncgov=claimoncgov.bfill(axis='columns')\n",
    "claimoncgov['claimongov']=claimoncgov['Monetary, Central Bank Survey, Net Claims on Central Government, Claims on Central Government, Domestic Currency (FASAG_XDC)']\n",
    "claimoncgov=claimoncgov[['Country Name', 'Country Code', 'Time Period', 'claimongov']]\n",
    "claimoncgov = claimoncgov.pivot(index='Country Code', columns='Time Period', values='claimongov')\n",
    "claimoncgov.reset_index(inplace=True)\n",
    "claimoncgov = pd.merge(claimoncgov, nGDP, on='Country Code', how='outer')\n",
    "claimoncgov['claimongov_change2020']=(claimoncgov['2020_x']-claimoncgov['2019_x'])/(claimoncgov['2019_y']*1000000000)*100\n",
    "claimoncgov = claimoncgov[['Country Code', 'Country', 'ISO', 'claimongov_change2020']]\n",
    "claimoncgov"
   ],
   "metadata": {
    "collapsed": false
   },
   "id": "3d6263cbe3fecd8a"
  },
  {
   "cell_type": "code",
   "execution_count": null,
   "outputs": [],
   "source": [
    "claimoncgov_gen = pd.read_csv('/Users/kissr/Downloads/IMF_monetarystat_panel.csv')\n",
    "claimoncgov_gen = claimoncgov_gen[['Country Name', 'Country Code', 'Time Period', 'Monetary, Central Bank Survey, Claims on Other Sectors, Claims on State and Local Government, Domestic Currency (FASAOS_XDC)', 'Monetary, Central Bank Survey, Claims on Other Sectors, Claims on State and Local Government, Euros (FASAOS_EUR)', 'Monetary, Central Bank Survey, Claims on Other Sectors, Claims on State and Local Government, US Dollars (FASAOS_USD)']]\n",
    "claimoncgov_gen=claimoncgov_gen.bfill(axis='columns')\n",
    "claimoncgov_gen['claimongov_local']=claimoncgov_gen['Monetary, Central Bank Survey, Claims on Other Sectors, Claims on State and Local Government, Domestic Currency (FASAOS_XDC)']\n",
    "claimoncgov_gen=claimoncgov_gen[['Country Name', 'Country Code', 'Time Period', 'claimongov_local']]\n",
    "claimoncgov_gen = claimoncgov_gen.pivot(index='Country Code', columns='Time Period', values='claimongov_local')\n",
    "claimoncgov_gen.reset_index(inplace=True)\n",
    "claimoncgov_gen = pd.merge(claimoncgov_gen, nGDP, on='Country Code', how='outer')\n",
    "claimoncgov_gen['claimongov_local_change2020']=(claimoncgov_gen['2020_x']-claimoncgov_gen['2019_x'])/(claimoncgov_gen['2019_y']*1000000000)*100\n",
    "claimoncgov_gen = claimoncgov_gen[['Country Code', 'Country', 'ISO', 'claimongov_local_change2020']]\n",
    "claimoncgov_gen['claimongov_gen_change2020'] = claimoncgov_gen['claimongov_local_change2020']+claimoncgov['claimongov_change2020']\n",
    "claimoncgov_gen"
   ],
   "metadata": {
    "collapsed": false
   },
   "id": "2bf7cf6ca7285f03"
  },
  {
   "cell_type": "code",
   "execution_count": null,
   "outputs": [],
   "source": [
    "# cb total asset, IMF panel database\n",
    "\n",
    "totalasset = pd.read_csv('/Users/kissr/Downloads/IMF_monetarystat_panel.csv')\n",
    "totalasset = totalasset[['Country Name', 'Country Code', 'Time Period', 'Monetary, Central Bank, Assets, Domestic Currency (FAA_XDC)', 'Monetary, Central Bank, Assets, Euros (FAA_EUR)', 'Monetary, Central Bank, Assets, US Dollars (FAA_USD)']]\n",
    "totalasset=totalasset.bfill(axis='columns')\n",
    "totalasset['totalasset']=totalasset['Monetary, Central Bank, Assets, Domestic Currency (FAA_XDC)']\n",
    "totalasset=totalasset[['Country Name', 'Country Code', 'Time Period', 'totalasset']]\n",
    "totalasset = totalasset.pivot(index='Country Code', columns='Time Period', values='totalasset')\n",
    "totalasset.reset_index(inplace=True)\n",
    "totalasset.rename(columns={'Country Name': 'Country'}, inplace=True)\n",
    "totalasset = pd.merge(totalasset, nGDP, on='Country Code', how='outer')\n",
    "totalasset['totalasset_change2020']=(totalasset['2020_x']-totalasset['2019_x'])/(totalasset['2019_y']*1000000000)*100\n",
    "totalasset = totalasset[['Country Code', 'Country', 'ISO', 'totalasset_change2020']]\n",
    "totalasset"
   ],
   "metadata": {
    "collapsed": false
   },
   "id": "192614c81362907b"
  },
  {
   "cell_type": "code",
   "execution_count": 5,
   "outputs": [
    {
     "name": "stderr",
     "output_type": "stream",
     "text": [
      "C:\\Users\\kissr\\AppData\\Local\\Temp\\ipykernel_29628\\4860505.py:12: FutureWarning: In a future version, the Index constructor will not infer numeric dtypes when passed object-dtype sequences (matching Series behavior)\n",
      "  mprate = pd.merge(mprate, nGDP, on='Country Code', how='outer')\n"
     ]
    },
    {
     "data": {
      "text/plain": "    Country Code                   Country  monpolrate_change_abs  \\\n0          111.0             United States                   -1.5   \n1          112.0            United Kingdom                    NaN   \n2          122.0                   Austria                    NaN   \n3          124.0                   Belgium                    NaN   \n4          128.0                   Denmark                    0.0   \n..           ...                       ...                    ...   \n196          528  Taiwan Province of China                    NaN   \n197          925              Turkmenistan                    NaN   \n198          869                    Tuvalu                    NaN   \n199          299                 Venezuela                    NaN   \n200          474                     Yemen                    NaN   \n\n     monpolrate_change_pct  ZLB  \n0               -92.307692  0.0  \n1                      NaN  NaN  \n2                      NaN  NaN  \n3                      NaN  NaN  \n4                      NaN  1.0  \n..                     ...  ...  \n196                    NaN  NaN  \n197                    NaN  NaN  \n198                    NaN  NaN  \n199                    NaN  NaN  \n200                    NaN  NaN  \n\n[201 rows x 5 columns]",
      "text/html": "<div>\n<style scoped>\n    .dataframe tbody tr th:only-of-type {\n        vertical-align: middle;\n    }\n\n    .dataframe tbody tr th {\n        vertical-align: top;\n    }\n\n    .dataframe thead th {\n        text-align: right;\n    }\n</style>\n<table border=\"1\" class=\"dataframe\">\n  <thead>\n    <tr style=\"text-align: right;\">\n      <th></th>\n      <th>Country Code</th>\n      <th>Country</th>\n      <th>monpolrate_change_abs</th>\n      <th>monpolrate_change_pct</th>\n      <th>ZLB</th>\n    </tr>\n  </thead>\n  <tbody>\n    <tr>\n      <th>0</th>\n      <td>111.0</td>\n      <td>United States</td>\n      <td>-1.5</td>\n      <td>-92.307692</td>\n      <td>0.0</td>\n    </tr>\n    <tr>\n      <th>1</th>\n      <td>112.0</td>\n      <td>United Kingdom</td>\n      <td>NaN</td>\n      <td>NaN</td>\n      <td>NaN</td>\n    </tr>\n    <tr>\n      <th>2</th>\n      <td>122.0</td>\n      <td>Austria</td>\n      <td>NaN</td>\n      <td>NaN</td>\n      <td>NaN</td>\n    </tr>\n    <tr>\n      <th>3</th>\n      <td>124.0</td>\n      <td>Belgium</td>\n      <td>NaN</td>\n      <td>NaN</td>\n      <td>NaN</td>\n    </tr>\n    <tr>\n      <th>4</th>\n      <td>128.0</td>\n      <td>Denmark</td>\n      <td>0.0</td>\n      <td>NaN</td>\n      <td>1.0</td>\n    </tr>\n    <tr>\n      <th>...</th>\n      <td>...</td>\n      <td>...</td>\n      <td>...</td>\n      <td>...</td>\n      <td>...</td>\n    </tr>\n    <tr>\n      <th>196</th>\n      <td>528</td>\n      <td>Taiwan Province of China</td>\n      <td>NaN</td>\n      <td>NaN</td>\n      <td>NaN</td>\n    </tr>\n    <tr>\n      <th>197</th>\n      <td>925</td>\n      <td>Turkmenistan</td>\n      <td>NaN</td>\n      <td>NaN</td>\n      <td>NaN</td>\n    </tr>\n    <tr>\n      <th>198</th>\n      <td>869</td>\n      <td>Tuvalu</td>\n      <td>NaN</td>\n      <td>NaN</td>\n      <td>NaN</td>\n    </tr>\n    <tr>\n      <th>199</th>\n      <td>299</td>\n      <td>Venezuela</td>\n      <td>NaN</td>\n      <td>NaN</td>\n      <td>NaN</td>\n    </tr>\n    <tr>\n      <th>200</th>\n      <td>474</td>\n      <td>Yemen</td>\n      <td>NaN</td>\n      <td>NaN</td>\n      <td>NaN</td>\n    </tr>\n  </tbody>\n</table>\n<p>201 rows × 5 columns</p>\n</div>"
     },
     "execution_count": 5,
     "metadata": {},
     "output_type": "execute_result"
    }
   ],
   "source": [
    "# monetary policy related short rate, IMF panel dataset\n",
    "\n",
    "mprate = pd.read_csv('/Users/kissr/Downloads/IMF_monetarystat_panel.csv')\n",
    "mprate = mprate[['Country Name', 'Country Code', 'Time Period', 'Financial, Interest Rates, Monetary Policy-Related Interest Rate, Percent per annum (FPOLM_PA)']]\n",
    "mprate.rename(columns={'Country Name': 'Country'}, inplace=True)\n",
    "mprate.rename(columns={'Financial, Interest Rates, Monetary Policy-Related Interest Rate, Percent per annum (FPOLM_PA)': 'monpolrate'}, inplace=True)\n",
    "mprate = mprate.pivot(index='Country Code', columns='Time Period', values='monpolrate')\n",
    "mprate.reset_index(inplace=True)\n",
    "mprate['monpolrate_change_abs']=mprate[2020]-mprate[2019]\n",
    "mprate['monpolrate_change_pct']=((mprate[2020]-mprate[2019])/mprate[2019])*100\n",
    "mprate['ZLB'] = mprate[2019].apply(lambda x: np.nan if pd.isna(x) else 1 if x < 1 else 0)\n",
    "mprate = pd.merge(mprate, nGDP, on='Country Code', how='outer')\n",
    "mprate=mprate[['Country Code','Country', 'monpolrate_change_abs', 'monpolrate_change_pct', 'ZLB']]\n",
    "mprate"
   ],
   "metadata": {
    "collapsed": false,
    "ExecuteTime": {
     "end_time": "2024-04-07T00:03:06.651296100Z",
     "start_time": "2024-04-07T00:03:06.429066600Z"
    }
   },
   "id": "1b31460e819b5d07"
  },
  {
   "cell_type": "code",
   "execution_count": null,
   "outputs": [],
   "source": [
    "# government bond rate, IMF panel dataset (sok hiányzó adat)\n",
    "\n",
    "longrate = pd.read_csv('/Users/kissr/Downloads/IMF_monetarystat_panel.csv')\n",
    "longrate = longrate[['Country Name', 'Country Code', 'Time Period', 'Financial, Interest Rates, Government Securities, Government Bonds, Percent per annum (FIGB_PA)']]\n",
    "longrate.rename(columns={'Country Name': 'Country'}, inplace=True)\n",
    "longrate.rename(columns={'Financial, Interest Rates, Government Securities, Government Bonds, Percent per annum (FIGB_PA)': 'longrate'}, inplace=True)\n",
    "longrate = longrate.pivot(index='Country Code', columns='Time Period', values='longrate')\n",
    "longrate.reset_index(inplace=True)\n",
    "longrate['longrate_change_abs']=longrate[2020]-longrate[2019]\n",
    "longrate = pd.merge(longrate, nGDP, on='Country Code', how='outer')\n",
    "longrate=longrate[['Country', 'Country Code', 'longrate_change_abs']]\n",
    "longrate"
   ],
   "metadata": {
    "collapsed": false
   },
   "id": "d16f1368135a6bff"
  },
  {
   "cell_type": "code",
   "execution_count": null,
   "outputs": [],
   "source": [
    "# CENTRAL BANK RELATED DATA (HELICOPTER: MONETARY)\n",
    "\n",
    "cbdata = pd.merge(totalasset, claimoncgov_gen, on='Country Code', how='outer')\n",
    "cbdata = pd.merge(cbdata, claimoncgov, on='Country Code', how='outer')\n",
    "cbdata = pd.merge(cbdata, mprate, on='Country Code', how='outer')\n",
    "cbdata = pd.merge(cbdata, longrate, on='Country Code', how='outer')\n",
    "cbdata=cbdata[['Country Code', 'totalasset_change2020', 'claimongov_gen_change2020', 'claimongov_change2020', 'monpolrate_change_abs', 'monpolrate_change_pct', 'longrate_change_abs', 'ZLB']]\n",
    "cbdata"
   ],
   "metadata": {
    "collapsed": false
   },
   "id": "f2a4e1035b84ac26"
  },
  {
   "cell_type": "code",
   "execution_count": null,
   "outputs": [],
   "source": [
    "# CONTROLS (energy data is missing for 2020, last valid observation is used)\n",
    "\n",
    "# World Bank data\n",
    "\n",
    "worldbank=pd.read_csv('/Users/kissr/Downloads/worldbank_7a1c3888-c741-414d-80bc-0be3038ba28c_Data.csv')\n",
    "worldbank = worldbank[(worldbank['Series Name']=='Total debt service (% of GNI)') | (worldbank['Series Name']=='Travel services (% of service exports, BoP)') | (worldbank['Series Name']=='Services, value added (% of GDP)') | (worldbank['Series Name']=='International tourism, receipts (% of total exports)') | (worldbank['Series Name']=='Government Effectiveness: Estimate') | (worldbank['Series Name']=='Energy imports, net (% of energy use)') | (worldbank['Series Name']=='Current health expenditure (% of GDP)')]\n",
    "worldbank.replace('..', np.nan, inplace=True)\n",
    "worldbank.iloc[:, 4:] = worldbank.iloc[:, 4:].ffill(axis='columns')\n",
    "worldbank=worldbank[['Series Name', 'Country Name', 'Country Code', '2020 [YR2020]']]\n",
    "worldbank = worldbank.pivot(index='Country Code', columns='Series Name', values='2020 [YR2020]')\n",
    "worldbank.reset_index(inplace=True)\n",
    "worldbank.rename(columns={'Country Code':'ISO'}, inplace=True)\n",
    "worldbank.iloc[:, 1:] = worldbank.iloc[:, 1:].apply(lambda x:pd.to_numeric(x, errors='coerce'))\n",
    "worldbank"
   ],
   "metadata": {
    "collapsed": false
   },
   "id": "8b40979ec4d4f1fd"
  },
  {
   "cell_type": "code",
   "execution_count": null,
   "outputs": [],
   "source": [
    "# CONTROLS\n",
    "\n",
    "# Covid-19 (Our World in Data) - csak 2020 első félév\n",
    "\n",
    "covid = pd.read_csv('/Users/kissr/Downloads/owid-covid-data.csv')\n",
    "covid = covid[['iso_code', 'location', 'date', 'total_cases', 'total_deaths', 'stringency_index', 'population', 'median_age', 'aged_65_older', 'hospital_beds_per_thousand', 'life_expectancy']]\n",
    "covid['date'] = pd.to_datetime(covid['date'])\n",
    "covid['year'] = covid['date'].dt.year\n",
    "covid = covid[covid['date']<'2020.07.01.']\n",
    "covid = covid.pivot_table(values=['total_cases', 'total_deaths', 'stringency_index', 'population', 'median_age', 'aged_65_older', 'hospital_beds_per_thousand', 'life_expectancy' ], index='iso_code', aggfunc={'total_cases':\"max\", 'total_deaths': \"max\", 'stringency_index':\"mean\", 'population':\"mean\", 'median_age':\"mean\", 'aged_65_older':\"mean\", 'hospital_beds_per_thousand':\"mean\", 'life_expectancy':\"mean\"})\n",
    "covid.reset_index(inplace=True)\n",
    "covid.rename(columns={'iso_code':'ISO'}, inplace=True)\n",
    "covid"
   ],
   "metadata": {
    "collapsed": false
   },
   "id": "3155f2263b15a440"
  },
  {
   "cell_type": "code",
   "execution_count": null,
   "outputs": [],
   "source": [
    "# INDEPENDENT VARIABLES\n",
    "\n",
    "indep_vars = pd.merge(fiscal_vars, cbdata, on='Country Code', how='outer')\n",
    "indep_vars"
   ],
   "metadata": {
    "collapsed": false
   },
   "id": "2fc7358fdaf226a6"
  },
  {
   "cell_type": "code",
   "execution_count": null,
   "outputs": [],
   "source": [
    "# CONTROL VARIABLES\n",
    "\n",
    "control_vars = pd.merge(covid, worldbank, on='ISO', how='outer')\n",
    "control_vars"
   ],
   "metadata": {
    "collapsed": false
   },
   "id": "1bee3eece34f208b"
  },
  {
   "cell_type": "code",
   "execution_count": null,
   "outputs": [],
   "source": [
    "eurozone = pd.read_excel('/Users/kissr/Downloads/eurozone.xlsx')\n",
    "eurozone"
   ],
   "metadata": {
    "collapsed": false
   },
   "id": "81e7d0ba3fcfc217"
  },
  {
   "cell_type": "code",
   "execution_count": null,
   "outputs": [],
   "source": [
    "# FINAL HELICOPTER DB\n",
    "\n",
    "helicopter = pd.merge(dep_vars, indep_vars, on='Country', how='outer')\n",
    "helicopter = pd.merge(helicopter, control_vars, on='ISO', how='outer')\n",
    "helicopter = pd.merge(helicopter, eurozone[['ISO', 'Eurozone']], on='ISO', how='outer')\n",
    "helicopter['EZ_rGDPgrowth_2019_control'] = helicopter.apply(lambda row: np.nan if pd.isna(row['Eurozone']) else row['rGDPgrowth_2019_control'] if row['Eurozone'] == 'no' else 0.016, axis=1)\n",
    "helicopter['EZ_rGDPgrowth_2020_control'] = helicopter.apply(lambda row: np.nan if pd.isna(row['Eurozone']) else row['rGDPgrowth_2020_control'] if row['Eurozone'] == 'no' else -0.061, axis=1)\n",
    "helicopter['EZ_avginfl_control'] = helicopter.apply(lambda row: np.nan if pd.isna(row['Eurozone']) else row['infl_avg2009_2019'] if row['Eurozone'] == 'no' else 1.346545, axis=1)\n",
    "helicopter"
   ],
   "metadata": {
    "collapsed": false
   },
   "id": "9ff2790495d21b65"
  },
  {
   "cell_type": "code",
   "execution_count": null,
   "outputs": [],
   "source": [
    "# HELICOPTER VARIABLES\n",
    "\n",
    "helicopter['heli_grossdebt_totalasset']=helicopter[['grossdebt_level_change', 'totalasset_change2020']].min(axis=1)\n",
    "helicopter['grossdebt_grd_tota']=helicopter['grossdebt_level_change']-helicopter['heli_grossdebt_totalasset']\n",
    "helicopter['totalasset_grd_tota']=helicopter['totalasset_change2020']-helicopter['heli_grossdebt_totalasset']\n",
    "\n",
    "helicopter['heli_grossdebt_claims']=helicopter[['grossdebt_level_change', 'claimongov_change2020']].min(axis=1)\n",
    "helicopter['grossdebt_grd_claims']=helicopter['grossdebt_level_change']-helicopter['heli_grossdebt_claims']\n",
    "helicopter['claims_grd_claims']=helicopter['claimongov_change2020']-helicopter['heli_grossdebt_claims']\n",
    "\n",
    "helicopter['heli_govexp_totalasset']=helicopter[['govexp_level_change', 'totalasset_change2020']].min(axis=1)\n",
    "helicopter['govexp_govexp_tota']=helicopter['govexp_level_change']-helicopter['heli_govexp_totalasset']\n",
    "helicopter['totalasset_govexp_tota']=helicopter['totalasset_change2020']-helicopter['heli_govexp_totalasset']\n",
    "\n",
    "helicopter['heli_govexp_claims']=helicopter[['govexp_level_change', 'claimongov_change2020']].min(axis=1)\n",
    "helicopter['govexp_govexp_claims']=helicopter['govexp_level_change']-helicopter['heli_govexp_claims']\n",
    "helicopter['claims_govexp_claims']=helicopter['claimongov_change2020']-helicopter['heli_govexp_claims']\n",
    "\n",
    "helicopter['heli_imf_totalasset']=helicopter[['IMF_fiscalspending_total', 'totalasset_change2020']].min(axis=1)\n",
    "helicopter['imf_imf_tota']=helicopter['IMF_fiscalspending_total']-helicopter['heli_imf_totalasset']\n",
    "helicopter['totalasset_imf_tota']=helicopter['totalasset_change2020']-helicopter['heli_imf_totalasset']\n",
    "\n",
    "helicopter['heli_imf_claims']=helicopter[['IMF_fiscalspending_total', 'claimongov_change2020']].min(axis=1)\n",
    "helicopter['imf_imf_claims']=helicopter['IMF_fiscalspending_total']-helicopter['heli_imf_claims']\n",
    "helicopter['claims_imf_claims']=helicopter['claimongov_change2020']-helicopter['heli_imf_claims']\n",
    "\n",
    "\n",
    "helicopter['heli (grossdebt claims on gen gov)']=helicopter[['grossdebt_level_change', 'claimongov_gen_change2020']].min(axis=1)\n",
    "helicopter['grossdebt (grossdebt claims on gen gov)']=helicopter['grossdebt_level_change']-helicopter['heli (grossdebt claims on gen gov)']\n",
    "helicopter['claims on gen gov (grossdebt claims on gen gov)']=helicopter['claimongov_gen_change2020']-helicopter['heli (grossdebt claims on gen gov)']\n",
    "\n",
    "helicopter['heli (govexp claims on gen gov)']=helicopter[['govexp_level_change', 'claimongov_gen_change2020']].min(axis=1)\n",
    "helicopter['govexp (govexp claims on gen gov)']=helicopter['govexp_level_change']-helicopter['heli (govexp claims on gen gov)']\n",
    "helicopter['claims on gen gov (govexp claims on gen gov)']=helicopter['claimongov_gen_change2020']-helicopter['heli (govexp claims on gen gov)']\n",
    "\n",
    "helicopter['heli (imf claims on gen gov)']=helicopter[['IMF_fiscalspending_total', 'claimongov_gen_change2020']].min(axis=1)\n",
    "helicopter['imf (imf claims on gen gov)']=helicopter['IMF_fiscalspending_total']-helicopter['heli (imf claims on gen gov)']\n",
    "helicopter['claims on gen gov (imf claims on gen gov)']=helicopter['claimongov_gen_change2020']-helicopter['heli (imf claims on gen gov)']"
   ],
   "metadata": {
    "collapsed": false
   },
   "id": "e4053b9bf65ce75"
  }
 ],
 "metadata": {
  "kernelspec": {
   "display_name": "Python 3",
   "language": "python",
   "name": "python3"
  },
  "language_info": {
   "codemirror_mode": {
    "name": "ipython",
    "version": 2
   },
   "file_extension": ".py",
   "mimetype": "text/x-python",
   "name": "python",
   "nbconvert_exporter": "python",
   "pygments_lexer": "ipython2",
   "version": "2.7.6"
  }
 },
 "nbformat": 4,
 "nbformat_minor": 5
}
