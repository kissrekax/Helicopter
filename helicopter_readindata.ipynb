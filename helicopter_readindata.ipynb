{
 "cells": [
  {
   "cell_type": "code",
   "execution_count": null,
   "id": "initial_id",
   "metadata": {
    "collapsed": true
   },
   "outputs": [],
   "source": [
    "import pandas as pd\n",
    "import numpy as np"
   ]
  },
  {
   "cell_type": "code",
   "execution_count": null,
   "outputs": [],
   "source": [
    "# ISO ország kódok\n",
    "\n",
    "ISO_codes = pd.read_csv('...') # elérési út az ISO kódokhoz\n",
    "ISO_codes = ISO_codes[['name', 'alpha-3']]\n",
    "ISO_codes['Country']=ISO_codes['name']\n",
    "ISO_codes['ISO']=ISO_codes['alpha-3']\n",
    "ISO_codes=ISO_codes[['ISO', 'Country']]"
   ],
   "metadata": {
    "collapsed": false
   },
   "id": "b5c81787b377f15a"
  },
  {
   "cell_type": "code",
   "execution_count": null,
   "outputs": [],
   "source": [
    "# nominális GDP, WEO adatbázisból\n",
    "\n",
    "nGDP = pd.read_excel('...', thousands=',', decimal='.') # elérési út \n",
    "nGDP = nGDP[['WEO Country Code', 'ISO', 'Country', 'WEO Subject Code', 2019, 2020]]\n",
    "nGDP.rename(columns={'WEO Country Code': 'Country Code'}, inplace=True)\n",
    "nGDP = nGDP[nGDP['WEO Subject Code']=='NGDP']\n",
    "nGDP[[2019, 2020]] = nGDP[[2019, 2020]].apply(lambda x:pd.to_numeric(x, errors='coerce'))"
   ],
   "metadata": {
    "collapsed": false
   },
   "id": "6ee7a37cffeb753c"
  },
  {
   "cell_type": "code",
   "execution_count": null,
   "outputs": [],
   "source": [
    "# reál GDP növekedési üteme\n",
    "\n",
    "GDP = pd.read_excel('...', decimal='.')\n",
    "GDP = GDP[['Real GDP growth (Annual percent change)', 2019, 2020, 2021, 2022, 2023]]\n",
    "GDP.replace('no data', np.nan, inplace=True)\n",
    "GDP[[2019, 2020, 2021, 2022, 2023]] = GDP[[2019, 2020, 2021, 2022, 2023]].apply(lambda x:pd.to_numeric(x, errors='coerce'))\n",
    "GDP[[2019, 2020, 2021, 2022, 2023]]=GDP[[2019, 2020, 2021, 2022, 2023]]/100\n",
    "GDP['rGDPgrowth_2019_control']=GDP[2019]*100\n",
    "GDP['rGDPgrowth_2020_control']=GDP[2020]*100\n",
    "GDP['rGDPgrowth_1y']=GDP[2021]*100\n",
    "GDP['rGDP_growth_2y']=((1+GDP[2021])*(1+GDP[2022])-1)*100\n",
    "GDP['rGDP_growth_3y']=((1+GDP[2021])*(1+GDP[2022])*(1+GDP[2023])-1)*100\n",
    "GDP['GDP 2020']=GDP[2020]*100\n",
    "GDP['GDP 2019-2021'] = ((1+GDP[2020])*(1+GDP[2021])-1)*100\n",
    "GDP=GDP[['Real GDP growth (Annual percent change)','GDP 2019-2021', 'GDP 2020', 'rGDPgrowth_1y', 'rGDP_growth_2y', 'rGDP_growth_3y', 'rGDPgrowth_2019_control', 'rGDPgrowth_2020_control']]\n",
    "GDP.rename(columns={'Real GDP growth (Annual percent change)': 'Country'}, inplace=True)"
   ],
   "metadata": {
    "collapsed": false
   },
   "id": "946ee0b74ebc4ad1"
  },
  {
   "cell_type": "code",
   "execution_count": null,
   "outputs": [],
   "source": [
    "# negyedéves GDP növekedési üteme\n",
    "\n",
    "qGDP = pd.read_excel('...', sheet_name=\"qGDP\", thousands=',', decimal='.') # a qGDP sheetre vannak áttéve az adatok, hogy A1 celléban kezdődjenek\n",
    "qGDP.iloc[1:,1:]=qGDP.iloc[1:,1:].apply(lambda x:pd.to_numeric(x, errors='coerce'))\n",
    "qGDP['negyedéves GDP kontroll']=(qGDP['2020Q2']/qGDP['2020Q1'])-(qGDP['2019Q2']/qGDP['2019Q1'])\n",
    "qGDP['negyedéves GDP kontroll 2020Q1']=(qGDP['2020Q1']/qGDP['2019Q4'])-(qGDP['2019Q1']/qGDP['2018Q4'])\n",
    "qGDP = qGDP[['Country', 'negyedéves GDP kontroll', 'negyedéves GDP kontroll 2020Q1' ]]\n",
    "# qGDP.to_excel('IMF_qGDP.xlsx', index=False), excel kimentés, utólag lett hozzáadva"
   ],
   "metadata": {
    "collapsed": false
   },
   "id": "5496f6f1b249480d"
  },
  {
   "cell_type": "code",
   "execution_count": null,
   "outputs": [],
   "source": [
    "# negyedéves infláció\n",
    "\n",
    "qinflation = pd.read_excel('...', sheet_name=\"qinflation\", thousands=',', decimal='.')\n",
    "qinflation.iloc[1:,1:]=qinflation.iloc[1:,1:].apply(lambda x:pd.to_numeric(x, errors='coerce'))\n",
    "qinflation.replace('...', np.nan, inplace=True)\n",
    "qinflation['negyedéves infláció kontroll']=(qinflation['2020Q2']/qinflation['2020Q1'])-(qinflation['2019Q2']/qinflation['2019Q1'])\n",
    "qinflation = qinflation[['Country', 'negyedéves infláció kontroll']]\n",
    "# qinflation.to_excel('IMF_qinflation.xlsx', index=False)"
   ],
   "metadata": {
    "collapsed": false
   },
   "id": "da65ab2ccd0faee0"
  },
  {
   "cell_type": "code",
   "execution_count": null,
   "outputs": [],
   "source": [
    "# infláció\n",
    "\n",
    "infl = pd.read_excel('...', decimal='.')\n",
    "infl = infl[['Inflation rate, average consumer prices (Annual percent change)', 2009, 2010, 2011, 2012, 2013, 2014, 2015, 2016, 2017, 2018, 2019, 2020, 2021, 2022, 2023]]\n",
    "infl.replace('no data', np.nan, inplace=True)\n",
    "infl[[2009, 2010, 2011, 2012, 2013, 2014, 2015, 2016, 2017, 2018,2019, 2020, 2021, 2022, 2023]] = infl[[2009, 2010, 2011, 2012, 2013, 2014, 2015, 2016, 2017, 2018,2019, 2020, 2021, 2022, 2023]].apply(lambda x:pd.to_numeric(x, errors='coerce'))\n",
    "infl[[2009, 2010, 2011, 2012, 2013, 2014, 2015, 2016, 2017, 2018,2019, 2020, 2021, 2022, 2023]]=infl[[2009, 2010, 2011, 2012, 2013, 2014, 2015, 2016, 2017, 2018,2019, 2020, 2021, 2022, 2023]]/100\n",
    "infl['infl_1y']=infl[2021]*100\n",
    "infl['infl_2y']=((1+infl[2021])*(1+infl[2022])-1)*100\n",
    "infl['infl_3y']=((1+infl[2021])*(1+infl[2022])*(1+infl[2023])-1)*100\n",
    "infl['infl_avg2009_2019']=(((1+infl[2010])*(1+infl[2011])*(1+infl[2012])*(1+infl[2013])*(1+infl[2014])*(1+infl[2015])*(1+infl[2016])*(1+infl[2017])*(1+infl[2018])*(1+infl[2019]))**(1/10)-1)*100\n",
    "infl['infláció 2020']=infl[2020]*100\n",
    "infl['infláció 2019-2021'] = ((1+infl[2020])*(1+infl[2021])-1)*100\n",
    "infl=infl[['Inflation rate, average consumer prices (Annual percent change)', 'infláció 2020', 'infláció 2019-2021', 'infl_1y', 'infl_2y', 'infl_3y', 'infl_avg2009_2019']]\n",
    "infl.rename(columns={'Inflation rate, average consumer prices (Annual percent change)':'Country'}, inplace=True)\n",
    "# infl.to_excel('infl_nov.xlsx', index=False), utólag lett hozzáadva a fő excelhez"
   ],
   "metadata": {
    "collapsed": false
   },
   "id": "43e5a27914f47abb"
  },
  {
   "cell_type": "code",
   "execution_count": null,
   "outputs": [],
   "source": [
    "# FÜGGŐ VÁLTOZÓK (+ avg inflation, + q GDP), nincs jelentősége hogy mikor van összefűzve, a végén úgyis egy nagy adatbázis lest\n",
    "\n",
    "dep_vars = pd.merge(GDP, infl, on='Country', how='outer')\n",
    "dep_vars = pd.merge(dep_vars, qGDP, on='Country', how='outer')"
   ],
   "metadata": {
    "collapsed": false
   },
   "id": "6185659fcdf81360"
  },
  {
   "cell_type": "code",
   "execution_count": null,
   "outputs": [],
   "source": [
    "# bruttó adósság változása\n",
    "\n",
    "grossdebt_level = pd.read_excel('...', thousands=',', decimal='.') # WEO adatbázisból\n",
    "grossdebt_level = grossdebt_level[['WEO Country Code', 'ISO', 'Country', 'WEO Subject Code', 2019, 2020, 2021, 2022, 2023]]\n",
    "grossdebt_level.rename(columns={'WEO Country Code': 'Country Code'}, inplace=True)\n",
    "grossdebt_level = grossdebt_level[grossdebt_level['WEO Subject Code']=='GGXWDG']\n",
    "grossdebt_level[[2019, 2020]] = grossdebt_level[[2019, 2020]].apply(lambda x:pd.to_numeric(x, errors='coerce'))\n",
    "grossdebt_level=pd.merge(grossdebt_level, nGDP[['Country Code', 2019, 2020]], on='Country Code', how='outer')\n",
    "grossdebt_level['grossdebt_level_change']=((grossdebt_level['2020_x']-grossdebt_level['2019_x'])/grossdebt_level['2019_y'])*100\n",
    "grossdebt_level = grossdebt_level[['Country Code', 'ISO', 'grossdebt_level_change']]"
   ],
   "metadata": {
    "collapsed": false
   },
   "id": "e57e22b6b17eaadd"
  },
  {
   "cell_type": "code",
   "execution_count": null,
   "outputs": [],
   "source": [
    "# kormányzati kiadások változása\n",
    "\n",
    "govexpenditure_level = pd.read_excel('...', thousands=',', decimal='.') # WEO adatbázisból\n",
    "govexpenditure_level = govexpenditure_level[['WEO Country Code','ISO', 'Country', 'WEO Subject Code', 2019, 2020, 2021, 2022, 2023]]\n",
    "govexpenditure_level.rename(columns={'WEO Country Code': 'Country Code'}, inplace=True)\n",
    "govexpenditure_level = govexpenditure_level[govexpenditure_level['WEO Subject Code']=='GGX']\n",
    "govexpenditure_level[[2019, 2020]] = govexpenditure_level[[2019, 2020]].apply(lambda x:pd.to_numeric(x, errors='coerce'))\n",
    "govexpenditure_level=pd.merge(govexpenditure_level, nGDP[['Country Code', 2019, 2020]], on='Country Code', how='outer')\n",
    "govexpenditure_level['govexp_level_change']=((govexpenditure_level['2020_x']-govexpenditure_level['2019_x'])/govexpenditure_level['2019_y'])*100\n",
    "govexpenditure_level = govexpenditure_level[['Country Code', 'ISO', 'govexp_level_change']]"
   ],
   "metadata": {
    "collapsed": false
   },
   "id": "4b8dd9d5fbc3c008"
  },
  {
   "cell_type": "code",
   "execution_count": null,
   "outputs": [],
   "source": [
    "# IMF fiscal monitor adatok, végül nem használtam, mert 2021. decemberig tart az időszak\n",
    "\n",
    "IMFfiscal_pctGDP = pd.read_excel('...', sheet_name='imffiscal') # a sheeten csak külön ki van szedve a releváns adatok\n",
    "IMFfiscal_pctGDP =pd.merge(IMFfiscal_pctGDP, nGDP[['ISO', 'Country Code', 2019, 2020]], on=\"ISO\", how='outer')\n",
    "IMFfiscal_pctGDP['IMF_fiscalspending_ATL']=(IMFfiscal_pctGDP['Additional spending or foregone revenues']*IMFfiscal_pctGDP[2020])/IMFfiscal_pctGDP[2019] # alapvetően 2020-as GDP arányában van megadva\n",
    "IMFfiscal_pctGDP['IMF_fiscalspending_BTL']=(IMFfiscal_pctGDP['Liquidity support']*IMFfiscal_pctGDP[2020])/IMFfiscal_pctGDP[2019]\n",
    "IMFfiscal_pctGDP['IMF_fiscalspending_total']=(IMFfiscal_pctGDP['Total_spending']*IMFfiscal_pctGDP[2020])/IMFfiscal_pctGDP[2019]\n",
    "IMFfiscal_pctGDP['IMF_fiscalspending_ATL_pctTotal']=(IMFfiscal_pctGDP['IMF_fiscalspending_ATL']/IMFfiscal_pctGDP['IMF_fiscalspending_total'])*100\n",
    "IMFfiscal_pctGDP=IMFfiscal_pctGDP[['Country', 'Country Code', 'ISO', 'IMF_fiscalspending_ATL', 'IMF_fiscalspending_BTL', 'IMF_fiscalspending_total', 'IMF_fiscalspending_ATL_pctTotal']]"
   ],
   "metadata": {
    "collapsed": false
   },
   "id": "b63c6dfa75074ce9"
  },
  {
   "cell_type": "code",
   "execution_count": null,
   "outputs": [],
   "source": [
    "# FISKÁLIS VÁLTOZÓK\n",
    "\n",
    "fiscal_vars = pd.merge(grossdebt_level, govexpenditure_level, on='ISO', how='outer')\n",
    "fiscal_vars = pd.merge(fiscal_vars,  IMFfiscal_pctGDP, on='ISO', how='outer')\n",
    "fiscal_vars=fiscal_vars[['ISO', 'Country', 'Country Code', 'grossdebt_level_change', 'govexp_level_change', 'IMF_fiscalspending_ATL', 'IMF_fiscalspending_BTL', 'IMF_fiscalspending_total', 'IMF_fiscalspending_ATL_pctTotal']]"
   ],
   "metadata": {
    "collapsed": false
   },
   "id": "c0b08dac3a662876"
  },
  {
   "cell_type": "code",
   "execution_count": null,
   "outputs": [],
   "source": [
    "# jegybank központi kormányzattal szembeni bruttó követeléseinek változása\n",
    "# külön változó a központi kormányzat és alszektorai, külön lettek beolvasva és végül a végső excelben összeadva\n",
    "\n",
    "claimoncgov = pd.read_csv('...') # MFS adatbázis, panel formában töltöttem le\n",
    "claimoncgov = claimoncgov[['Country Name', 'Country Code', 'Time Period', 'Monetary, Central Bank Survey, Net Claims on Central Government, Claims on Central Government, Domestic Currency (FASAG_XDC)', 'Monetary, Central Bank Survey, Net Claims on Central Government, Claims on Central Government, Euros (FASAG_EUR)', 'Monetary, Central Bank Survey, Net Claims on Central Government, Claims on Central Government, US Dollars (FASAG_USD)']]\n",
    "claimoncgov=claimoncgov.bfill(axis='columns') # saját deviza, euró, dollár adatokként külön változóban vannak a tételek, de minden országnál csak ott van adat, ami a saját pénzneme (az eurós, dolláros országok adatai nem jelennek meg a saját devizás változóban, csak az eurósban/dollárosban, ezért nem elég csak a saját devizás), ez csak egy oszlopba tömöríti a három változót\n",
    "claimoncgov['claimongov']=claimoncgov['Monetary, Central Bank Survey, Net Claims on Central Government, Claims on Central Government, Domestic Currency (FASAG_XDC)']\n",
    "claimoncgov=claimoncgov[['Country Name', 'Country Code', 'Time Period', 'claimongov']]\n",
    "claimoncgov = claimoncgov.pivot(index='Country Code', columns='Time Period', values='claimongov')\n",
    "claimoncgov.reset_index(inplace=True)\n",
    "claimoncgov = pd.merge(claimoncgov, nGDP, on='Country Code', how='outer')\n",
    "claimoncgov['claimongov_change2020']=(claimoncgov['2020_x']-claimoncgov['2019_x'])/(claimoncgov['2019_y']*1000000000)*100 # mértékegység nem egységes\n",
    "claimoncgov = claimoncgov[['Country Code', 'Country', 'ISO', 'claimongov_change2020']]"
   ],
   "metadata": {
    "collapsed": false
   },
   "id": "3d6263cbe3fecd8a"
  },
  {
   "cell_type": "code",
   "execution_count": null,
   "outputs": [],
   "source": [
    "# jegybank helyi önkormányzattal/state-tel szembeni bruttó követeléseinek változása\n",
    "# külön változó a központi kormányzat és alszektorai, külön lettek beolvasva és végül a végső excelben összeadva\n",
    "\n",
    "claimoncgov_gen = pd.read_csv('...') # MFS adatbázis\n",
    "claimoncgov_gen = claimoncgov_gen[['Country Name', 'Country Code', 'Time Period', 'Monetary, Central Bank Survey, Claims on Other Sectors, Claims on State and Local Government, Domestic Currency (FASAOS_XDC)', 'Monetary, Central Bank Survey, Claims on Other Sectors, Claims on State and Local Government, Euros (FASAOS_EUR)', 'Monetary, Central Bank Survey, Claims on Other Sectors, Claims on State and Local Government, US Dollars (FASAOS_USD)']]\n",
    "claimoncgov_gen=claimoncgov_gen.bfill(axis='columns')\n",
    "claimoncgov_gen['claimongov_local']=claimoncgov_gen['Monetary, Central Bank Survey, Claims on Other Sectors, Claims on State and Local Government, Domestic Currency (FASAOS_XDC)']\n",
    "claimoncgov_gen=claimoncgov_gen[['Country Name', 'Country Code', 'Time Period', 'claimongov_local']]\n",
    "claimoncgov_gen = claimoncgov_gen.pivot(index='Country Code', columns='Time Period', values='claimongov_local')\n",
    "claimoncgov_gen.reset_index(inplace=True)\n",
    "claimoncgov_gen = pd.merge(claimoncgov_gen, nGDP, on='Country Code', how='outer')\n",
    "claimoncgov_gen['claimongov_local_change2020']=(claimoncgov_gen['2020_x']-claimoncgov_gen['2019_x'])/(claimoncgov_gen['2019_y']*1000000000)*100\n",
    "claimoncgov_gen = claimoncgov_gen[['Country Code', 'Country', 'ISO', 'claimongov_local_change2020']]\n",
    "claimoncgov_gen['claimongov_gen_change2020'] = claimoncgov_gen['claimongov_local_change2020']+claimoncgov['claimongov_change2020']"
   ],
   "metadata": {
    "collapsed": false
   },
   "id": "2bf7cf6ca7285f03"
  },
  {
   "cell_type": "code",
   "execution_count": null,
   "outputs": [],
   "source": [
    "# jegybank mérlegfőösszeg változás\n",
    "\n",
    "totalasset = pd.read_csv('...') # MFS\n",
    "totalasset = totalasset[['Country Name', 'Country Code', 'Time Period', 'Monetary, Central Bank, Assets, Domestic Currency (FAA_XDC)', 'Monetary, Central Bank, Assets, Euros (FAA_EUR)', 'Monetary, Central Bank, Assets, US Dollars (FAA_USD)']]\n",
    "totalasset=totalasset.bfill(axis='columns') # lásd előző érvelés\n",
    "totalasset['totalasset']=totalasset['Monetary, Central Bank, Assets, Domestic Currency (FAA_XDC)']\n",
    "totalasset=totalasset[['Country Name', 'Country Code', 'Time Period', 'totalasset']]\n",
    "totalasset = totalasset.pivot(index='Country Code', columns='Time Period', values='totalasset')\n",
    "totalasset.reset_index(inplace=True)\n",
    "totalasset.rename(columns={'Country Name': 'Country'}, inplace=True)\n",
    "totalasset = pd.merge(totalasset, nGDP, on='Country Code', how='outer')\n",
    "totalasset['totalasset_change2020']=(totalasset['2020_x']-totalasset['2019_x'])/(totalasset['2019_y']*1000000000)*100\n",
    "totalasset = totalasset[['Country Code', 'Country', 'ISO', 'totalasset_change2020']]"
   ],
   "metadata": {
    "collapsed": false
   },
   "id": "192614c81362907b"
  },
  {
   "cell_type": "code",
   "execution_count": null,
   "outputs": [],
   "source": [
    "# jegybanki alapkamat\n",
    "\n",
    "mprate = pd.read_csv('...') # MFS\n",
    "mprate = mprate[['Country Name', 'Country Code', 'Time Period', 'Financial, Interest Rates, Monetary Policy-Related Interest Rate, Percent per annum (FPOLM_PA)']]\n",
    "mprate.rename(columns={'Country Name': 'Country'}, inplace=True)\n",
    "mprate.rename(columns={'Financial, Interest Rates, Monetary Policy-Related Interest Rate, Percent per annum (FPOLM_PA)': 'monpolrate'}, inplace=True)\n",
    "mprate = mprate.pivot(index='Country Code', columns='Time Period', values='monpolrate')\n",
    "mprate.reset_index(inplace=True)\n",
    "mprate['monpolrate_change_abs']=mprate[2020]-mprate[2019]\n",
    "mprate['monpolrate_change_pct']=((mprate[2020]-mprate[2019])/mprate[2019])*100 # nem használtam\n",
    "mprate['ZLB'] = mprate[2019].apply(lambda x: np.nan if pd.isna(x) else 1 if x < 1 else 0) # ZLB változó, végül nem használtam, mert kevés a rövid kamat adat ebben az adatbázisban\n",
    "mprate = pd.merge(mprate, nGDP, on='Country Code', how='outer')\n",
    "mprate=mprate[['Country Code','Country', 'monpolrate_change_abs', 'monpolrate_change_pct', 'ZLB']]"
   ],
   "metadata": {
    "collapsed": false
   },
   "id": "1b31460e819b5d07"
  },
  {
   "cell_type": "code",
   "execution_count": null,
   "outputs": [],
   "source": [
    "# hosszabb államkötvény hozamok, nem használtam, alig van adat\n",
    "\n",
    "longrate = pd.read_csv('...') # MFS\n",
    "longrate = longrate[['Country Name', 'Country Code', 'Time Period', 'Financial, Interest Rates, Government Securities, Government Bonds, Percent per annum (FIGB_PA)']]\n",
    "longrate.rename(columns={'Country Name': 'Country'}, inplace=True)\n",
    "longrate.rename(columns={'Financial, Interest Rates, Government Securities, Government Bonds, Percent per annum (FIGB_PA)': 'longrate'}, inplace=True)\n",
    "longrate = longrate.pivot(index='Country Code', columns='Time Period', values='longrate')\n",
    "longrate.reset_index(inplace=True)\n",
    "longrate['longrate_change_abs']=longrate[2020]-longrate[2019]\n",
    "longrate = pd.merge(longrate, nGDP, on='Country Code', how='outer')\n",
    "longrate=longrate[['Country', 'Country Code', 'longrate_change_abs']]"
   ],
   "metadata": {
    "collapsed": false
   },
   "id": "d16f1368135a6bff"
  },
  {
   "cell_type": "code",
   "execution_count": null,
   "outputs": [],
   "source": [
    "# MONETÁRIS POLITIKA\n",
    "\n",
    "cbdata = pd.merge(totalasset, claimoncgov_gen, on='Country Code', how='outer')\n",
    "cbdata = pd.merge(cbdata, claimoncgov, on='Country Code', how='outer')\n",
    "cbdata = pd.merge(cbdata, mprate, on='Country Code', how='outer')\n",
    "cbdata = pd.merge(cbdata, longrate, on='Country Code', how='outer')\n",
    "cbdata=cbdata[['Country Code', 'totalasset_change2020', 'claimongov_gen_change2020', 'claimongov_change2020', 'monpolrate_change_abs', 'monpolrate_change_pct', 'longrate_change_abs', 'ZLB']]"
   ],
   "metadata": {
    "collapsed": false
   },
   "id": "f2a4e1035b84ac26"
  },
  {
   "cell_type": "code",
   "execution_count": null,
   "outputs": [],
   "source": [
    "# KONTROLL VÁLTOZÓK\n",
    "\n",
    "# World Bank adatokból\n",
    "\n",
    "worldbank=pd.read_csv('...') # World Bank adatbázis, külön választottam ki, hogy ezeket a változókat szeretném letölteni\n",
    "worldbank = worldbank[(worldbank['Series Name']=='Total debt service (% of GNI)') | (worldbank['Series Name']=='Travel services (% of service exports, BoP)') | (worldbank['Series Name']=='Services, value added (% of GDP)') | (worldbank['Series Name']=='International tourism, receipts (% of total exports)') | (worldbank['Series Name']=='Government Effectiveness: Estimate') | (worldbank['Series Name']=='Energy imports, net (% of energy use)') | (worldbank['Series Name']=='Current health expenditure (% of GDP)')] # végül sok változót nem használtam\n",
    "worldbank.replace('..', np.nan, inplace=True)\n",
    "worldbank.iloc[:, 4:] = worldbank.iloc[:, 4:].ffill(axis='columns') # a nettó energimport 2019-ben sok helyen hiányzott, utolsó érvényes megfigyeléssel feltöltve (ami biztos, hogy nem régebbi, mint 2014, feltételeztem, hogy azóta nem változott érdemben az energiszerkezet)\n",
    "worldbank=worldbank[['Series Name', 'Country Name', 'Country Code', '2020 [YR2020]']]\n",
    "worldbank = worldbank.pivot(index='Country Code', columns='Series Name', values='2020 [YR2020]')\n",
    "worldbank.reset_index(inplace=True)\n",
    "worldbank.rename(columns={'Country Code':'ISO'}, inplace=True)\n",
    "worldbank.iloc[:, 1:] = worldbank.iloc[:, 1:].apply(lambda x:pd.to_numeric(x, errors='coerce'))"
   ],
   "metadata": {
    "collapsed": false
   },
   "id": "8b40979ec4d4f1fd"
  },
  {
   "cell_type": "code",
   "execution_count": null,
   "outputs": [],
   "source": [
    "# KONTROLL VÁLTOZÓK\n",
    "\n",
    "# Covid-19 (Our World in Data)\n",
    "\n",
    "covid = pd.read_csv('...') # owid adatbázis\n",
    "covid = covid[['iso_code', 'location', 'date', 'total_cases', 'total_deaths', 'stringency_index', 'population', 'median_age', 'aged_65_older', 'hospital_beds_per_thousand', 'life_expectancy']]\n",
    "covid['date'] = pd.to_datetime(covid['date'])\n",
    "covid['year'] = covid['date'].dt.year\n",
    "covid = covid[covid['date']<'2020.07.01.']\n",
    "covid = covid.pivot_table(values=['total_cases', 'total_deaths', 'stringency_index', 'population', 'median_age', 'aged_65_older', 'hospital_beds_per_thousand', 'life_expectancy' ], index='iso_code', aggfunc={'total_cases':\"max\", 'total_deaths': \"max\", 'stringency_index':\"mean\", 'population':\"mean\", 'median_age':\"mean\", 'aged_65_older':\"mean\", 'hospital_beds_per_thousand':\"mean\", 'life_expectancy':\"mean\"})\n",
    "covid.reset_index(inplace=True)\n",
    "covid.rename(columns={'iso_code':'ISO'}, inplace=True)"
   ],
   "metadata": {
    "collapsed": false
   },
   "id": "3155f2263b15a440"
  },
  {
   "cell_type": "code",
   "execution_count": null,
   "outputs": [],
   "source": [
    "# FŐ MAGYARÁZÓ VÁLTOZÓK\n",
    "\n",
    "indep_vars = pd.merge(fiscal_vars, cbdata, on='Country Code', how='outer')"
   ],
   "metadata": {
    "collapsed": false
   },
   "id": "2fc7358fdaf226a6"
  },
  {
   "cell_type": "code",
   "execution_count": null,
   "outputs": [],
   "source": [
    "# KONTROLL VÁLTOZÓK\n",
    "\n",
    "control_vars = pd.merge(covid, worldbank, on='ISO', how='outer')"
   ],
   "metadata": {
    "collapsed": false
   },
   "id": "1bee3eece34f208b"
  },
  {
   "cell_type": "code",
   "execution_count": null,
   "outputs": [],
   "source": [
    "# Eurozóna tag-e az adott ország\n",
    "# nem használtam, csak azt szolgálta, hogy kontroll változóként az EZ országokra a teljes Eurozónára vonatkozó adatok voltak benne, nem az ország specifikus, feltételezve, hogy az EKB ezt veszi figyelembe, de semmit nem változtatott az eredményeken, így az országspecifikus kontrollokat használtam\n",
    "\n",
    "eurozone = pd.read_excel('...') # egy külön excelben vannak jelölve, hogy EZ tagország-e"
   ],
   "metadata": {
    "collapsed": false
   },
   "id": "81e7d0ba3fcfc217"
  },
  {
   "cell_type": "code",
   "execution_count": null,
   "outputs": [],
   "source": [
    "# VÉGSŐ HELIKOPTER ADATBÁZIS\n",
    "\n",
    "helicopter = pd.merge(dep_vars, indep_vars, on='Country', how='outer')\n",
    "helicopter = pd.merge(helicopter, control_vars, on='ISO', how='outer')\n",
    "helicopter = pd.merge(helicopter, eurozone[['ISO', 'Eurozone']], on='ISO', how='outer')\n",
    "helicopter['EZ_rGDPgrowth_2019_control'] = helicopter.apply(lambda row: np.nan if pd.isna(row['Eurozone']) else row['rGDPgrowth_2019_control'] if row['Eurozone'] == 'no' else 0.016, axis=1)\n",
    "helicopter['EZ_rGDPgrowth_2020_control'] = helicopter.apply(lambda row: np.nan if pd.isna(row['Eurozone']) else row['rGDPgrowth_2020_control'] if row['Eurozone'] == 'no' else -0.061, axis=1)\n",
    "helicopter['EZ_avginfl_control'] = helicopter.apply(lambda row: np.nan if pd.isna(row['Eurozone']) else row['infl_avg2009_2019'] if row['Eurozone'] == 'no' else 1.346545, axis=1) # lásd előző, EZ kontroll változók létrehozása"
   ],
   "metadata": {
    "collapsed": false
   },
   "id": "9ff2790495d21b65"
  },
  {
   "cell_type": "code",
   "execution_count": null,
   "outputs": [],
   "source": [
    "# METSZETES HELIKOPTER VÁLTOZÓK LÉTREHOZÁSA, MÁSIK KONCEPCIÓ, VÉGÜL NEM EZT HASZNÁLTAM\n",
    "\n",
    "helicopter['heli_grossdebt_totalasset']=helicopter[['grossdebt_level_change', 'totalasset_change2020']].min(axis=1)\n",
    "helicopter['grossdebt_grd_tota']=helicopter['grossdebt_level_change']-helicopter['heli_grossdebt_totalasset']\n",
    "helicopter['totalasset_grd_tota']=helicopter['totalasset_change2020']-helicopter['heli_grossdebt_totalasset']\n",
    "\n",
    "helicopter['heli_grossdebt_claims']=helicopter[['grossdebt_level_change', 'claimongov_change2020']].min(axis=1)\n",
    "helicopter['grossdebt_grd_claims']=helicopter['grossdebt_level_change']-helicopter['heli_grossdebt_claims']\n",
    "helicopter['claims_grd_claims']=helicopter['claimongov_change2020']-helicopter['heli_grossdebt_claims']\n",
    "\n",
    "helicopter['heli_govexp_totalasset']=helicopter[['govexp_level_change', 'totalasset_change2020']].min(axis=1)\n",
    "helicopter['govexp_govexp_tota']=helicopter['govexp_level_change']-helicopter['heli_govexp_totalasset']\n",
    "helicopter['totalasset_govexp_tota']=helicopter['totalasset_change2020']-helicopter['heli_govexp_totalasset']\n",
    "\n",
    "helicopter['heli_govexp_claims']=helicopter[['govexp_level_change', 'claimongov_change2020']].min(axis=1)\n",
    "helicopter['govexp_govexp_claims']=helicopter['govexp_level_change']-helicopter['heli_govexp_claims']\n",
    "helicopter['claims_govexp_claims']=helicopter['claimongov_change2020']-helicopter['heli_govexp_claims']\n",
    "\n",
    "helicopter['heli_imf_totalasset']=helicopter[['IMF_fiscalspending_total', 'totalasset_change2020']].min(axis=1)\n",
    "helicopter['imf_imf_tota']=helicopter['IMF_fiscalspending_total']-helicopter['heli_imf_totalasset']\n",
    "helicopter['totalasset_imf_tota']=helicopter['totalasset_change2020']-helicopter['heli_imf_totalasset']\n",
    "\n",
    "helicopter['heli_imf_claims']=helicopter[['IMF_fiscalspending_total', 'claimongov_change2020']].min(axis=1)\n",
    "helicopter['imf_imf_claims']=helicopter['IMF_fiscalspending_total']-helicopter['heli_imf_claims']\n",
    "helicopter['claims_imf_claims']=helicopter['claimongov_change2020']-helicopter['heli_imf_claims']\n",
    "\n",
    "\n",
    "helicopter['heli (grossdebt claims on gen gov)']=helicopter[['grossdebt_level_change', 'claimongov_gen_change2020']].min(axis=1)\n",
    "helicopter['grossdebt (grossdebt claims on gen gov)']=helicopter['grossdebt_level_change']-helicopter['heli (grossdebt claims on gen gov)']\n",
    "helicopter['claims on gen gov (grossdebt claims on gen gov)']=helicopter['claimongov_gen_change2020']-helicopter['heli (grossdebt claims on gen gov)']\n",
    "\n",
    "helicopter['heli (govexp claims on gen gov)']=helicopter[['govexp_level_change', 'claimongov_gen_change2020']].min(axis=1)\n",
    "helicopter['govexp (govexp claims on gen gov)']=helicopter['govexp_level_change']-helicopter['heli (govexp claims on gen gov)']\n",
    "helicopter['claims on gen gov (govexp claims on gen gov)']=helicopter['claimongov_gen_change2020']-helicopter['heli (govexp claims on gen gov)']\n",
    "\n",
    "helicopter['heli (imf claims on gen gov)']=helicopter[['IMF_fiscalspending_total', 'claimongov_gen_change2020']].min(axis=1)\n",
    "helicopter['imf (imf claims on gen gov)']=helicopter['IMF_fiscalspending_total']-helicopter['heli (imf claims on gen gov)']\n",
    "helicopter['claims on gen gov (imf claims on gen gov)']=helicopter['claimongov_gen_change2020']-helicopter['heli (imf claims on gen gov)']"
   ],
   "metadata": {
    "collapsed": false
   },
   "id": "e4053b9bf65ce75"
  }
 ],
 "metadata": {
  "kernelspec": {
   "display_name": "Python 3",
   "language": "python",
   "name": "python3"
  },
  "language_info": {
   "codemirror_mode": {
    "name": "ipython",
    "version": 2
   },
   "file_extension": ".py",
   "mimetype": "text/x-python",
   "name": "python",
   "nbconvert_exporter": "python",
   "pygments_lexer": "ipython2",
   "version": "2.7.6"
  }
 },
 "nbformat": 4,
 "nbformat_minor": 5
}
